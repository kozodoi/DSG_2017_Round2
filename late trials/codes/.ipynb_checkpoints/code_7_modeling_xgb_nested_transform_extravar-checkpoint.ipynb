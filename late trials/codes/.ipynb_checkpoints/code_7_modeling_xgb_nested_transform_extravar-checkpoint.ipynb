{
 "cells": [
  {
   "cell_type": "markdown",
   "metadata": {},
   "source": [
    "# 1. DATA PREPARATION"
   ]
  },
  {
   "cell_type": "markdown",
   "metadata": {},
   "source": [
    "## 1.1. IMPORT"
   ]
  },
  {
   "cell_type": "code",
   "execution_count": 1,
   "metadata": {},
   "outputs": [],
   "source": [
    "# install packages\n",
    "#!pip install pandas\n",
    "#!pip install numpy\n",
    "#!pip install sklearn\n",
    "#!pip install xgboost\n",
    "#!pip install hyperopt"
   ]
  },
  {
   "cell_type": "code",
   "execution_count": 1,
   "metadata": {},
   "outputs": [],
   "source": [
    "# load packages\n",
    "import numpy as np\n",
    "import pandas as pd\n",
    "import xgboost as xgb\n",
    "from sklearn.preprocessing import LabelEncoder\n",
    "from sklearn.model_selection import GridSearchCV, StratifiedKFold, train_test_split\n",
    "from sklearn.metrics import mean_absolute_error\n",
    "from hyperopt import fmin, tpe, hp, STATUS_OK, Trials\n",
    "from matplotlib import pylab as plt\n",
    "import pickle"
   ]
  },
  {
   "cell_type": "code",
   "execution_count": 2,
   "metadata": {},
   "outputs": [],
   "source": [
    "# warnings\n",
    "import warnings\n",
    "warnings.filterwarnings(\"ignore\")"
   ]
  },
  {
   "cell_type": "code",
   "execution_count": 3,
   "metadata": {},
   "outputs": [],
   "source": [
    "# import data\n",
    "data = pd.read_csv(\"../../data/data_full.csv\")"
   ]
  },
  {
   "cell_type": "markdown",
   "metadata": {},
   "source": [
    "## 1.2. PREPARATION"
   ]
  },
  {
   "cell_type": "code",
   "execution_count": 4,
   "metadata": {},
   "outputs": [
    {
     "data": {
      "text/html": [
       "<div>\n",
       "<style scoped>\n",
       "    .dataframe tbody tr th:only-of-type {\n",
       "        vertical-align: middle;\n",
       "    }\n",
       "\n",
       "    .dataframe tbody tr th {\n",
       "        vertical-align: top;\n",
       "    }\n",
       "\n",
       "    .dataframe thead th {\n",
       "        text-align: right;\n",
       "    }\n",
       "</style>\n",
       "<table border=\"1\" class=\"dataframe\">\n",
       "  <thead>\n",
       "    <tr style=\"text-align: right;\">\n",
       "      <th></th>\n",
       "      <th>ID</th>\n",
       "      <th>SalOrg</th>\n",
       "      <th>year</th>\n",
       "      <th>month</th>\n",
       "      <th>y</th>\n",
       "      <th>lag_1</th>\n",
       "      <th>lag_2</th>\n",
       "      <th>lag_3</th>\n",
       "      <th>lag_4</th>\n",
       "      <th>lag_5</th>\n",
       "      <th>...</th>\n",
       "      <th>SubFct</th>\n",
       "      <th>DP_FAMILY_CODE</th>\n",
       "      <th>MktABC</th>\n",
       "      <th>Business</th>\n",
       "      <th>Gamma</th>\n",
       "      <th>ItemCat</th>\n",
       "      <th>PRODUCT_STATUS</th>\n",
       "      <th>Plant</th>\n",
       "      <th>DC</th>\n",
       "      <th>season</th>\n",
       "    </tr>\n",
       "  </thead>\n",
       "  <tbody>\n",
       "    <tr>\n",
       "      <th>0</th>\n",
       "      <td>0.0</td>\n",
       "      <td>0</td>\n",
       "      <td>2013</td>\n",
       "      <td>1</td>\n",
       "      <td>0.0</td>\n",
       "      <td>0.0</td>\n",
       "      <td>0.0</td>\n",
       "      <td>0.0</td>\n",
       "      <td>0.0</td>\n",
       "      <td>0.0</td>\n",
       "      <td>...</td>\n",
       "      <td>2</td>\n",
       "      <td>0</td>\n",
       "      <td>1</td>\n",
       "      <td>0</td>\n",
       "      <td>3</td>\n",
       "      <td>2</td>\n",
       "      <td>0</td>\n",
       "      <td>2</td>\n",
       "      <td>1</td>\n",
       "      <td>3</td>\n",
       "    </tr>\n",
       "    <tr>\n",
       "      <th>1</th>\n",
       "      <td>0.0</td>\n",
       "      <td>0</td>\n",
       "      <td>2013</td>\n",
       "      <td>1</td>\n",
       "      <td>16.0</td>\n",
       "      <td>4.0</td>\n",
       "      <td>1.0</td>\n",
       "      <td>0.0</td>\n",
       "      <td>30.0</td>\n",
       "      <td>0.0</td>\n",
       "      <td>...</td>\n",
       "      <td>2</td>\n",
       "      <td>21</td>\n",
       "      <td>3</td>\n",
       "      <td>0</td>\n",
       "      <td>13</td>\n",
       "      <td>2</td>\n",
       "      <td>4</td>\n",
       "      <td>2</td>\n",
       "      <td>1</td>\n",
       "      <td>3</td>\n",
       "    </tr>\n",
       "    <tr>\n",
       "      <th>2</th>\n",
       "      <td>0.0</td>\n",
       "      <td>0</td>\n",
       "      <td>2013</td>\n",
       "      <td>1</td>\n",
       "      <td>0.0</td>\n",
       "      <td>0.0</td>\n",
       "      <td>0.0</td>\n",
       "      <td>0.0</td>\n",
       "      <td>0.0</td>\n",
       "      <td>0.0</td>\n",
       "      <td>...</td>\n",
       "      <td>2</td>\n",
       "      <td>5</td>\n",
       "      <td>0</td>\n",
       "      <td>3</td>\n",
       "      <td>6</td>\n",
       "      <td>2</td>\n",
       "      <td>4</td>\n",
       "      <td>1</td>\n",
       "      <td>1</td>\n",
       "      <td>3</td>\n",
       "    </tr>\n",
       "    <tr>\n",
       "      <th>3</th>\n",
       "      <td>0.0</td>\n",
       "      <td>0</td>\n",
       "      <td>2013</td>\n",
       "      <td>1</td>\n",
       "      <td>2.0</td>\n",
       "      <td>0.0</td>\n",
       "      <td>0.0</td>\n",
       "      <td>0.0</td>\n",
       "      <td>0.0</td>\n",
       "      <td>0.0</td>\n",
       "      <td>...</td>\n",
       "      <td>2</td>\n",
       "      <td>0</td>\n",
       "      <td>1</td>\n",
       "      <td>3</td>\n",
       "      <td>13</td>\n",
       "      <td>2</td>\n",
       "      <td>0</td>\n",
       "      <td>2</td>\n",
       "      <td>1</td>\n",
       "      <td>3</td>\n",
       "    </tr>\n",
       "    <tr>\n",
       "      <th>4</th>\n",
       "      <td>0.0</td>\n",
       "      <td>0</td>\n",
       "      <td>2013</td>\n",
       "      <td>1</td>\n",
       "      <td>0.0</td>\n",
       "      <td>0.0</td>\n",
       "      <td>0.0</td>\n",
       "      <td>0.0</td>\n",
       "      <td>0.0</td>\n",
       "      <td>0.0</td>\n",
       "      <td>...</td>\n",
       "      <td>3</td>\n",
       "      <td>0</td>\n",
       "      <td>1</td>\n",
       "      <td>0</td>\n",
       "      <td>11</td>\n",
       "      <td>2</td>\n",
       "      <td>0</td>\n",
       "      <td>0</td>\n",
       "      <td>1</td>\n",
       "      <td>3</td>\n",
       "    </tr>\n",
       "  </tbody>\n",
       "</table>\n",
       "<p>5 rows × 41 columns</p>\n",
       "</div>"
      ],
      "text/plain": [
       "    ID  SalOrg  year  month     y  lag_1  lag_2  lag_3  lag_4  lag_5   ...    \\\n",
       "0  0.0       0  2013      1   0.0    0.0    0.0    0.0    0.0    0.0   ...     \n",
       "1  0.0       0  2013      1  16.0    4.0    1.0    0.0   30.0    0.0   ...     \n",
       "2  0.0       0  2013      1   0.0    0.0    0.0    0.0    0.0    0.0   ...     \n",
       "3  0.0       0  2013      1   2.0    0.0    0.0    0.0    0.0    0.0   ...     \n",
       "4  0.0       0  2013      1   0.0    0.0    0.0    0.0    0.0    0.0   ...     \n",
       "\n",
       "   SubFct  DP_FAMILY_CODE  MktABC  Business  Gamma  ItemCat  PRODUCT_STATUS  \\\n",
       "0       2               0       1         0      3        2               0   \n",
       "1       2              21       3         0     13        2               4   \n",
       "2       2               5       0         3      6        2               4   \n",
       "3       2               0       1         3     13        2               0   \n",
       "4       3               0       1         0     11        2               0   \n",
       "\n",
       "   Plant  DC  season  \n",
       "0      2   1       3  \n",
       "1      2   1       3  \n",
       "2      1   1       3  \n",
       "3      2   1       3  \n",
       "4      0   1       3  \n",
       "\n",
       "[5 rows x 41 columns]"
      ]
     },
     "execution_count": 4,
     "metadata": {},
     "output_type": "execute_result"
    }
   ],
   "source": [
    "# check the data\n",
    "data.head()"
   ]
  },
  {
   "cell_type": "code",
   "execution_count": 5,
   "metadata": {},
   "outputs": [
    {
     "name": "stdout",
     "output_type": "stream",
     "text": [
      "(3108708, 41)\n",
      "Index(['ID', 'SalOrg', 'year', 'month', 'y', 'lag_1', 'lag_2', 'lag_3',\n",
      "       'lag_4', 'lag_5', 'lag_6', 'lag_7', 'lag_8', 'lag_9', 'lag_10',\n",
      "       'lag_11', 'lag_12', 'LT', 'MOQ', 'ROP', 'SafetyStk', 'Gross_Weight',\n",
      "       'Length', 'Width', 'Height', 'Volume', 'CBO_CBO_Qty_Shortage',\n",
      "       'Comp_reference_number', 'Name_Of_Competitor', 'PL', 'SUBRANGE',\n",
      "       'SubFct', 'DP_FAMILY_CODE', 'MktABC', 'Business', 'Gamma', 'ItemCat',\n",
      "       'PRODUCT_STATUS', 'Plant', 'DC', 'season'],\n",
      "      dtype='object')\n"
     ]
    }
   ],
   "source": [
    "# check the data\n",
    "print(data.shape)\n",
    "print(data.columns)"
   ]
  },
  {
   "cell_type": "code",
   "execution_count": 6,
   "metadata": {},
   "outputs": [
    {
     "data": {
      "text/plain": [
       "y        116028\n",
       "lag_1     77352\n",
       "lag_2     38676\n",
       "dtype: int64"
      ]
     },
     "execution_count": 6,
     "metadata": {},
     "output_type": "execute_result"
    }
   ],
   "source": [
    "# count number of missings\n",
    "missings = data.isnull().sum()\n",
    "missings[missings > 0]"
   ]
  },
  {
   "cell_type": "code",
   "execution_count": 7,
   "metadata": {},
   "outputs": [
    {
     "data": {
      "text/plain": [
       "(1471518, 41)"
      ]
     },
     "execution_count": 7,
     "metadata": {},
     "output_type": "execute_result"
    }
   ],
   "source": [
    "# remove observations if lags 3-12 are zeros\n",
    "lags = [\"lag_3\", \"lag_4\", \"lag_5\", \"lag_6\", \"lag_7\", \"lag_8\", \"lag_9\", \"lag_10\", \"lag_11\", \"lag_12\"]\n",
    "lags = data[lags]\n",
    "lags = lags.sum(axis = 1)\n",
    "lags = lags[lags == 0]\n",
    "nuls = data.ix[lags.index]\n",
    "nuls = list(nuls[nuls.ID == 0].index)\n",
    "data = data.drop(nuls)\n",
    "data.shape"
   ]
  },
  {
   "cell_type": "code",
   "execution_count": 8,
   "metadata": {},
   "outputs": [],
   "source": [
    "# transform the target\n",
    "data.y = np.log(1 + data.y)"
   ]
  },
  {
   "cell_type": "code",
   "execution_count": 9,
   "metadata": {},
   "outputs": [
    {
     "name": "stdout",
     "output_type": "stream",
     "text": [
      "(1355490, 41)\n",
      "(116028, 41)\n",
      "(948843, 41)\n",
      "(406647, 41)\n"
     ]
    }
   ],
   "source": [
    "# partitioning the data: round 1\n",
    "X_known = data[-data.y.isnull()]\n",
    "y_known = data[-data.y.isnull()].y\n",
    "X_unknown = data[data.y.isnull()]\n",
    "y_unknown = data[ data.y.isnull()].y\n",
    "\n",
    "# partition the data: round 2\n",
    "X_train, X_test, y_train, y_test = train_test_split(X_known, y_known, test_size = 0.30, random_state = 108)\n",
    "\n",
    "# prind data dimensions\n",
    "print(X_known.shape)\n",
    "print(X_unknown.shape)\n",
    "print(X_train.shape)\n",
    "print(X_test.shape)"
   ]
  },
  {
   "cell_type": "code",
   "execution_count": 10,
   "metadata": {},
   "outputs": [
    {
     "name": "stdout",
     "output_type": "stream",
     "text": [
      "(948843, 45)\n",
      "(406647, 45)\n",
      "(948843, 49)\n",
      "(406647, 49)\n",
      "(948843, 53)\n",
      "(406647, 53)\n",
      "(1355490, 45)\n",
      "(116028, 45)\n",
      "(1355490, 49)\n",
      "(116028, 49)\n",
      "(1355490, 53)\n",
      "(116028, 53)\n"
     ]
    }
   ],
   "source": [
    "### ADDITIONAL FEATURES (STATS)\n",
    "\n",
    "## 1. TRAIN - TEST DATA\n",
    "\n",
    "# compute additional variables: month\n",
    "train_stats = X_train.groupby([\"month\"]).y.agg([\"min\", \"max\", \"mean\", \"std\"])\n",
    "train_stats.columns = [\"mon_\" + str(col) for col in train_stats.columns]\n",
    "train_stats[\"month\"] = train_stats.index\n",
    "X_train = X_train.merge(train_stats, how = \"left\")\n",
    "X_test  = X_test.merge(train_stats, how = \"left\")\n",
    "print(X_train.shape)\n",
    "print(X_test.shape)\n",
    "\n",
    "# compute additional variables: country\n",
    "train_stats = X_train.groupby([\"SalOrg\"]).y.agg([\"min\", \"max\", \"mean\", \"std\"])\n",
    "train_stats.columns = [\"con_\" + str(col) for col in train_stats.columns]\n",
    "train_stats[\"SalOrg\"] = train_stats.index\n",
    "X_train = X_train.merge(train_stats, how = \"left\")\n",
    "X_test  = X_test.merge(train_stats, how = \"left\")\n",
    "print(X_train.shape)\n",
    "print(X_test.shape)\n",
    "\n",
    "# compute additional variables: month-country\n",
    "train_stats = X_train.groupby([\"month\", \"SalOrg\"]).y.agg([\"min\", \"max\", \"mean\", \"std\"])\n",
    "train_stats.columns = [\"mon_con_\" + str(col) for col in train_stats.columns]\n",
    "train_stats[\"month\"] = train_stats.index.get_level_values(\"month\")\n",
    "train_stats[\"SalOrg\"] = train_stats.index.get_level_values(\"SalOrg\")\n",
    "X_train = X_train.merge(train_stats, how = \"left\")\n",
    "X_test  = X_test.merge(train_stats, how = \"left\")\n",
    "print(X_train.shape)\n",
    "print(X_test.shape)\n",
    "\n",
    "\n",
    "## 2. KNOWN - UNKNOWN DATA\n",
    "\n",
    "# compute additional variables: month\n",
    "known_stats = X_known.groupby([\"month\"]).y.agg([\"min\", \"max\", \"mean\", \"std\"])\n",
    "known_stats.columns = [\"mon_\" + str(col) for col in known_stats.columns]\n",
    "known_stats[\"month\"] = known_stats.index\n",
    "X_known = X_known.merge(known_stats, how = \"left\")\n",
    "X_unknown  = X_unknown.merge(known_stats, how = \"left\")\n",
    "print(X_known.shape)\n",
    "print(X_unknown.shape)\n",
    "\n",
    "# compute additional variables: country\n",
    "known_stats = X_known.groupby([\"SalOrg\"]).y.agg([\"min\", \"max\", \"mean\", \"std\"])\n",
    "known_stats.columns = [\"con_\" + str(col) for col in known_stats.columns]\n",
    "known_stats[\"SalOrg\"] = known_stats.index\n",
    "X_known = X_known.merge(known_stats, how = \"left\")\n",
    "X_unknown  = X_unknown.merge(known_stats, how = \"left\")\n",
    "print(X_known.shape)\n",
    "print(X_unknown.shape)\n",
    "\n",
    "# compute additional variables: month-country\n",
    "known_stats = X_known.groupby([\"month\", \"SalOrg\"]).y.agg([\"min\", \"max\", \"mean\", \"std\"])\n",
    "known_stats.columns = [\"mon_con_\" + str(col) for col in known_stats.columns]\n",
    "known_stats[\"month\"] = known_stats.index.get_level_values(\"month\")\n",
    "known_stats[\"SalOrg\"] = known_stats.index.get_level_values(\"SalOrg\")\n",
    "X_known = X_known.merge(known_stats, how = \"left\")\n",
    "X_unknown  = X_unknown.merge(known_stats, how = \"left\")\n",
    "print(X_known.shape)\n",
    "print(X_unknown.shape)"
   ]
  },
  {
   "cell_type": "code",
   "execution_count": 11,
   "metadata": {},
   "outputs": [
    {
     "name": "stdout",
     "output_type": "stream",
     "text": [
      "(1355490, 52)\n",
      "(116028, 52)\n",
      "(948843, 52)\n",
      "(406647, 52)\n"
     ]
    }
   ],
   "source": [
    "# remove labels from X\n",
    "X_unknown = X_unknown.drop(\"y\", axis = 1)\n",
    "X_known   = X_known.drop(\"y\", axis = 1)\n",
    "X_train   = X_train.drop(\"y\", axis = 1)\n",
    "X_test    = X_test.drop(\"y\", axis = 1)\n",
    "\n",
    "# print data dimensions\n",
    "print(X_known.shape)\n",
    "print(X_unknown.shape)\n",
    "print(X_train.shape)\n",
    "print(X_test.shape)"
   ]
  },
  {
   "cell_type": "markdown",
   "metadata": {},
   "source": [
    "# 2. XGBOOST MODELING"
   ]
  },
  {
   "cell_type": "markdown",
   "metadata": {},
   "source": [
    "## 2.1. PARAMETER TUNING"
   ]
  },
  {
   "cell_type": "code",
   "execution_count": 12,
   "metadata": {},
   "outputs": [],
   "source": [
    "# task parameters\n",
    "task_pars = {\n",
    "             \"objective\"   : \"reg:linear\",\n",
    "             \"eval_metric\" : \"mae\",\n",
    "             \"nthread\"     : 8,\n",
    "             \"silent\"      : 1, \n",
    "             \"seed\"        : 108   \n",
    "            }"
   ]
  },
  {
   "cell_type": "code",
   "execution_count": 13,
   "metadata": {},
   "outputs": [],
   "source": [
    "# FUNCTION 1: parameter space\n",
    "def optimize(trials, task_params, max_evals = 100):\n",
    "    \n",
    "    # set up the parameter space\n",
    "    space = {\n",
    "             \"eta\"             : hp.quniform(\"eta\", 0.005, 0.5, 0.005),\n",
    "             \"gamma\"           : hp.quniform(\"gamma\", 0.3, 1, 0.01),\n",
    "             \"max_depth\"       : hp.quniform(\"max_depth\", 3, 15, 1),\n",
    "             \"min_child_weight\": hp.quniform(\"min_child_weight\", 1, 10, 1),\n",
    "             \"colsample_bytree\": hp.quniform(\"colsample_bytree\", 0.3, 1, 0.05),\n",
    "             \"subsample\"       : hp.quniform(\"subsample\", 0.6, 1, 0.05),\n",
    "             \"num_round\"       : 100,\n",
    "            }\n",
    "    \n",
    "    # add task parameters\n",
    "    space.update(task_params)\n",
    "    \n",
    "    # find the best combination\n",
    "    best = fmin(score, space, algo = tpe.suggest, trials = trials, max_evals = max_evals)\n",
    "    \n",
    "    # return results\n",
    "    return best"
   ]
  },
  {
   "cell_type": "code",
   "execution_count": 14,
   "metadata": {},
   "outputs": [],
   "source": [
    "# FUNCTION 2: performing the tuning\n",
    "def score(params):\n",
    "    \n",
    "    # display information\n",
    "    print(\"Training with the following parameters:\")\n",
    "    print(params)\n",
    "    \n",
    "    # convert to integer\n",
    "    params[\"max_depth\"] = int(params[\"max_depth\"])\n",
    "    params[\"num_round\"] = int(params[\"num_round\"])\n",
    "    params[\"seed\"]      = int(params[\"seed\"])\n",
    "\n",
    "    # transform matrices\n",
    "    dtrain = xgb.DMatrix(X_train.drop(\"ID\", axis = 1), label = y_train)\n",
    "    dvalid = xgb.DMatrix(X_test.drop(\"ID\",  axis = 1), label = y_test)\n",
    "    \n",
    "    # train the model\n",
    "    model = xgb.train(params, dtrain, params[\"num_round\"])\n",
    "    \n",
    "    # predict and score\n",
    "    predictions = model.predict(dvalid)\n",
    "    score = mean_absolute_error(y_test, predictions)\n",
    "    \n",
    "    # display information\n",
    "    print(\"Score: {0}\".format(round(score, 5)))\n",
    "    print(\"\\n---------------------------------------------\\n\")\n",
    "    return {'loss': score, 'status': STATUS_OK}"
   ]
  },
  {
   "cell_type": "code",
   "execution_count": 14,
   "metadata": {},
   "outputs": [
    {
     "name": "stdout",
     "output_type": "stream",
     "text": [
      "Training with the following parameters:\n",
      "{'colsample_bytree': 0.9, 'eta': 0.16, 'eval_metric': 'mae', 'gamma': 0.85, 'max_depth': 8.0, 'min_child_weight': 9.0, 'nthread': 8, 'num_round': 100, 'objective': 'reg:linear', 'seed': 108, 'silent': 1, 'subsample': 0.9500000000000001}\n",
      "Score: 0.23531\n",
      "\n",
      "---------------------------------------------\n",
      "\n",
      "Training with the following parameters:\n",
      "{'colsample_bytree': 0.8500000000000001, 'eta': 0.065, 'eval_metric': 'mae', 'gamma': 0.52, 'max_depth': 5.0, 'min_child_weight': 3.0, 'nthread': 8, 'num_round': 100, 'objective': 'reg:linear', 'seed': 108, 'silent': 1, 'subsample': 0.9}\n",
      "Score: 0.24105\n",
      "\n",
      "---------------------------------------------\n",
      "\n",
      "Training with the following parameters:\n",
      "{'colsample_bytree': 0.65, 'eta': 0.215, 'eval_metric': 'mae', 'gamma': 0.55, 'max_depth': 4.0, 'min_child_weight': 7.0, 'nthread': 8, 'num_round': 100, 'objective': 'reg:linear', 'seed': 108, 'silent': 1, 'subsample': 0.8500000000000001}\n",
      "Score: 0.24129\n",
      "\n",
      "---------------------------------------------\n",
      "\n",
      "Training with the following parameters:\n",
      "{'colsample_bytree': 0.7000000000000001, 'eta': 0.105, 'eval_metric': 'mae', 'gamma': 0.9, 'max_depth': 15.0, 'min_child_weight': 9.0, 'nthread': 8, 'num_round': 100, 'objective': 'reg:linear', 'seed': 108, 'silent': 1, 'subsample': 1.0}\n",
      "Score: 0.23231\n",
      "\n",
      "---------------------------------------------\n",
      "\n",
      "Training with the following parameters:\n",
      "{'colsample_bytree': 0.8, 'eta': 0.255, 'eval_metric': 'mae', 'gamma': 0.55, 'max_depth': 14.0, 'min_child_weight': 4.0, 'nthread': 8, 'num_round': 100, 'objective': 'reg:linear', 'seed': 108, 'silent': 1, 'subsample': 0.6000000000000001}\n",
      "Score: 0.24107\n",
      "\n",
      "---------------------------------------------\n",
      "\n",
      "Training with the following parameters:\n",
      "{'colsample_bytree': 0.35000000000000003, 'eta': 0.01, 'eval_metric': 'mae', 'gamma': 0.67, 'max_depth': 10.0, 'min_child_weight': 5.0, 'nthread': 8, 'num_round': 100, 'objective': 'reg:linear', 'seed': 108, 'silent': 1, 'subsample': 0.9500000000000001}\n",
      "Score: 0.42118\n",
      "\n",
      "---------------------------------------------\n",
      "\n",
      "Training with the following parameters:\n",
      "{'colsample_bytree': 0.55, 'eta': 0.20500000000000002, 'eval_metric': 'mae', 'gamma': 0.37, 'max_depth': 11.0, 'min_child_weight': 6.0, 'nthread': 8, 'num_round': 100, 'objective': 'reg:linear', 'seed': 108, 'silent': 1, 'subsample': 1.0}\n",
      "Score: 0.23365\n",
      "\n",
      "---------------------------------------------\n",
      "\n",
      "Training with the following parameters:\n",
      "{'colsample_bytree': 0.9, 'eta': 0.135, 'eval_metric': 'mae', 'gamma': 0.45, 'max_depth': 10.0, 'min_child_weight': 1.0, 'nthread': 8, 'num_round': 100, 'objective': 'reg:linear', 'seed': 108, 'silent': 1, 'subsample': 0.9}\n",
      "Score: 0.23327\n",
      "\n",
      "---------------------------------------------\n",
      "\n",
      "Training with the following parameters:\n",
      "{'colsample_bytree': 0.35000000000000003, 'eta': 0.25, 'eval_metric': 'mae', 'gamma': 0.3, 'max_depth': 3.0, 'min_child_weight': 6.0, 'nthread': 8, 'num_round': 100, 'objective': 'reg:linear', 'seed': 108, 'silent': 1, 'subsample': 0.9500000000000001}\n",
      "Score: 0.24316\n",
      "\n",
      "---------------------------------------------\n",
      "\n",
      "Training with the following parameters:\n",
      "{'colsample_bytree': 0.65, 'eta': 0.25, 'eval_metric': 'mae', 'gamma': 0.96, 'max_depth': 9.0, 'min_child_weight': 1.0, 'nthread': 8, 'num_round': 100, 'objective': 'reg:linear', 'seed': 108, 'silent': 1, 'subsample': 0.65}\n",
      "Score: 0.23621\n",
      "\n",
      "---------------------------------------------\n",
      "\n",
      "Training with the following parameters:\n",
      "{'colsample_bytree': 0.6000000000000001, 'eta': 0.025, 'eval_metric': 'mae', 'gamma': 0.42, 'max_depth': 8.0, 'min_child_weight': 4.0, 'nthread': 8, 'num_round': 100, 'objective': 'reg:linear', 'seed': 108, 'silent': 1, 'subsample': 0.75}\n",
      "Score: 0.27302\n",
      "\n",
      "---------------------------------------------\n",
      "\n",
      "Training with the following parameters:\n",
      "{'colsample_bytree': 0.5, 'eta': 0.325, 'eval_metric': 'mae', 'gamma': 0.54, 'max_depth': 8.0, 'min_child_weight': 1.0, 'nthread': 8, 'num_round': 100, 'objective': 'reg:linear', 'seed': 108, 'silent': 1, 'subsample': 0.8}\n",
      "Score: 0.23716\n",
      "\n",
      "---------------------------------------------\n",
      "\n",
      "Training with the following parameters:\n",
      "{'colsample_bytree': 0.5, 'eta': 0.28, 'eval_metric': 'mae', 'gamma': 0.51, 'max_depth': 11.0, 'min_child_weight': 7.0, 'nthread': 8, 'num_round': 100, 'objective': 'reg:linear', 'seed': 108, 'silent': 1, 'subsample': 0.9500000000000001}\n",
      "Score: 0.23556\n",
      "\n",
      "---------------------------------------------\n",
      "\n",
      "Training with the following parameters:\n",
      "{'colsample_bytree': 0.8, 'eta': 0.44, 'eval_metric': 'mae', 'gamma': 0.5700000000000001, 'max_depth': 10.0, 'min_child_weight': 6.0, 'nthread': 8, 'num_round': 100, 'objective': 'reg:linear', 'seed': 108, 'silent': 1, 'subsample': 0.6000000000000001}\n",
      "Score: 0.24311\n",
      "\n",
      "---------------------------------------------\n",
      "\n",
      "Training with the following parameters:\n",
      "{'colsample_bytree': 0.6000000000000001, 'eta': 0.14, 'eval_metric': 'mae', 'gamma': 0.93, 'max_depth': 4.0, 'min_child_weight': 4.0, 'nthread': 8, 'num_round': 100, 'objective': 'reg:linear', 'seed': 108, 'silent': 1, 'subsample': 0.7000000000000001}\n",
      "Score: 0.24148\n",
      "\n",
      "---------------------------------------------\n",
      "\n",
      "Training with the following parameters:\n",
      "{'colsample_bytree': 0.8, 'eta': 0.045, 'eval_metric': 'mae', 'gamma': 0.33, 'max_depth': 6.0, 'min_child_weight': 8.0, 'nthread': 8, 'num_round': 100, 'objective': 'reg:linear', 'seed': 108, 'silent': 1, 'subsample': 0.9500000000000001}\n",
      "Score: 0.24455\n",
      "\n",
      "---------------------------------------------\n",
      "\n",
      "Training with the following parameters:\n",
      "{'colsample_bytree': 0.9, 'eta': 0.13, 'eval_metric': 'mae', 'gamma': 0.72, 'max_depth': 9.0, 'min_child_weight': 2.0, 'nthread': 8, 'num_round': 100, 'objective': 'reg:linear', 'seed': 108, 'silent': 1, 'subsample': 0.9500000000000001}\n",
      "Score: 0.23397\n",
      "\n",
      "---------------------------------------------\n",
      "\n",
      "Training with the following parameters:\n",
      "{'colsample_bytree': 0.9500000000000001, 'eta': 0.06, 'eval_metric': 'mae', 'gamma': 0.62, 'max_depth': 6.0, 'min_child_weight': 10.0, 'nthread': 8, 'num_round': 100, 'objective': 'reg:linear', 'seed': 108, 'silent': 1, 'subsample': 0.9500000000000001}\n",
      "Score: 0.24007\n",
      "\n",
      "---------------------------------------------\n",
      "\n",
      "Training with the following parameters:\n",
      "{'colsample_bytree': 0.5, 'eta': 0.055, 'eval_metric': 'mae', 'gamma': 0.7000000000000001, 'max_depth': 11.0, 'min_child_weight': 7.0, 'nthread': 8, 'num_round': 100, 'objective': 'reg:linear', 'seed': 108, 'silent': 1, 'subsample': 0.75}\n",
      "Score: 0.23655\n",
      "\n",
      "---------------------------------------------\n",
      "\n",
      "Training with the following parameters:\n",
      "{'colsample_bytree': 0.8500000000000001, 'eta': 0.32, 'eval_metric': 'mae', 'gamma': 0.76, 'max_depth': 7.0, 'min_child_weight': 10.0, 'nthread': 8, 'num_round': 100, 'objective': 'reg:linear', 'seed': 108, 'silent': 1, 'subsample': 0.7000000000000001}\n",
      "Score: 0.23791\n",
      "\n",
      "---------------------------------------------\n",
      "\n",
      "Training with the following parameters:\n",
      "{'colsample_bytree': 1.0, 'eta': 0.105, 'eval_metric': 'mae', 'gamma': 0.8300000000000001, 'max_depth': 15.0, 'min_child_weight': 9.0, 'nthread': 8, 'num_round': 100, 'objective': 'reg:linear', 'seed': 108, 'silent': 1, 'subsample': 0.8500000000000001}\n",
      "Score: 0.23232\n",
      "\n",
      "---------------------------------------------\n",
      "\n",
      "Training with the following parameters:\n",
      "{'colsample_bytree': 1.0, 'eta': 0.105, 'eval_metric': 'mae', 'gamma': 0.84, 'max_depth': 15.0, 'min_child_weight': 9.0, 'nthread': 8, 'num_round': 100, 'objective': 'reg:linear', 'seed': 108, 'silent': 1, 'subsample': 0.8500000000000001}\n",
      "Score: 0.23241\n",
      "\n",
      "---------------------------------------------\n",
      "\n",
      "Training with the following parameters:\n",
      "{'colsample_bytree': 0.7000000000000001, 'eta': 0.495, 'eval_metric': 'mae', 'gamma': 0.88, 'max_depth': 14.0, 'min_child_weight': 9.0, 'nthread': 8, 'num_round': 100, 'objective': 'reg:linear', 'seed': 108, 'silent': 1, 'subsample': 0.8500000000000001}\n",
      "Score: 0.25042\n",
      "\n",
      "---------------------------------------------\n",
      "\n",
      "Training with the following parameters:\n",
      "{'colsample_bytree': 0.4, 'eta': 0.18, 'eval_metric': 'mae', 'gamma': 0.78, 'max_depth': 13.0, 'min_child_weight': 8.0, 'nthread': 8, 'num_round': 100, 'objective': 'reg:linear', 'seed': 108, 'silent': 1, 'subsample': 1.0}\n",
      "Score: 0.23509\n",
      "\n",
      "---------------------------------------------\n",
      "\n"
     ]
    },
    {
     "name": "stdout",
     "output_type": "stream",
     "text": [
      "Training with the following parameters:\n",
      "{'colsample_bytree': 1.0, 'eta': 0.09, 'eval_metric': 'mae', 'gamma': 0.98, 'max_depth': 13.0, 'min_child_weight': 8.0, 'nthread': 8, 'num_round': 100, 'objective': 'reg:linear', 'seed': 108, 'silent': 1, 'subsample': 0.8}\n",
      "Score: 0.23215\n",
      "\n",
      "---------------------------------------------\n",
      "\n",
      "Training with the following parameters:\n",
      "{'colsample_bytree': 0.75, 'eta': 0.095, 'eval_metric': 'mae', 'gamma': 0.99, 'max_depth': 13.0, 'min_child_weight': 8.0, 'nthread': 8, 'num_round': 100, 'objective': 'reg:linear', 'seed': 108, 'silent': 1, 'subsample': 0.8}\n",
      "Score: 0.2324\n",
      "\n",
      "---------------------------------------------\n",
      "\n",
      "Training with the following parameters:\n",
      "{'colsample_bytree': 0.75, 'eta': 0.4, 'eval_metric': 'mae', 'gamma': 0.93, 'max_depth': 13.0, 'min_child_weight': 10.0, 'nthread': 8, 'num_round': 100, 'objective': 'reg:linear', 'seed': 108, 'silent': 1, 'subsample': 0.65}\n",
      "Score: 0.24557\n",
      "\n",
      "---------------------------------------------\n",
      "\n",
      "Training with the following parameters:\n",
      "{'colsample_bytree': 0.45, 'eta': 0.005, 'eval_metric': 'mae', 'gamma': 1.0, 'max_depth': 12.0, 'min_child_weight': 8.0, 'nthread': 8, 'num_round': 100, 'objective': 'reg:linear', 'seed': 108, 'silent': 1, 'subsample': 0.75}\n",
      "Score: 0.54732\n",
      "\n",
      "---------------------------------------------\n",
      "\n",
      "Training with the following parameters:\n",
      "{'colsample_bytree': 0.9500000000000001, 'eta': 0.17500000000000002, 'eval_metric': 'mae', 'gamma': 0.89, 'max_depth': 14.0, 'min_child_weight': 10.0, 'nthread': 8, 'num_round': 100, 'objective': 'reg:linear', 'seed': 108, 'silent': 1, 'subsample': 0.9}\n",
      "Score: 0.23381\n",
      "\n",
      "---------------------------------------------\n",
      "\n",
      "Training with the following parameters:\n",
      "{'colsample_bytree': 0.7000000000000001, 'eta': 0.085, 'eval_metric': 'mae', 'gamma': 0.78, 'max_depth': 12.0, 'min_child_weight': 9.0, 'nthread': 8, 'num_round': 100, 'objective': 'reg:linear', 'seed': 108, 'silent': 1, 'subsample': 1.0}\n",
      "Score: 0.23221\n",
      "\n",
      "---------------------------------------------\n",
      "\n",
      "Training with the following parameters:\n",
      "{'colsample_bytree': 0.9500000000000001, 'eta': 0.075, 'eval_metric': 'mae', 'gamma': 0.76, 'max_depth': 12.0, 'min_child_weight': 7.0, 'nthread': 8, 'num_round': 100, 'objective': 'reg:linear', 'seed': 108, 'silent': 1, 'subsample': 0.7000000000000001}\n",
      "Score: 0.23322\n",
      "\n",
      "---------------------------------------------\n",
      "\n",
      "Training with the following parameters:\n",
      "{'colsample_bytree': 0.6000000000000001, 'eta': 0.21, 'eval_metric': 'mae', 'gamma': 0.8200000000000001, 'max_depth': 12.0, 'min_child_weight': 5.0, 'nthread': 8, 'num_round': 100, 'objective': 'reg:linear', 'seed': 108, 'silent': 1, 'subsample': 0.9}\n",
      "Score: 0.23447\n",
      "\n",
      "---------------------------------------------\n",
      "\n",
      "Training with the following parameters:\n",
      "{'colsample_bytree': 0.7000000000000001, 'eta': 0.155, 'eval_metric': 'mae', 'gamma': 0.64, 'max_depth': 13.0, 'min_child_weight': 9.0, 'nthread': 8, 'num_round': 100, 'objective': 'reg:linear', 'seed': 108, 'silent': 1, 'subsample': 0.65}\n",
      "Score: 0.23418\n",
      "\n",
      "---------------------------------------------\n",
      "\n",
      "Training with the following parameters:\n",
      "{'colsample_bytree': 0.8500000000000001, 'eta': 0.03, 'eval_metric': 'mae', 'gamma': 0.79, 'max_depth': 14.0, 'min_child_weight': 7.0, 'nthread': 8, 'num_round': 100, 'objective': 'reg:linear', 'seed': 108, 'silent': 1, 'subsample': 0.8}\n",
      "Score: 0.25381\n",
      "\n",
      "---------------------------------------------\n",
      "\n",
      "Training with the following parameters:\n",
      "{'colsample_bytree': 0.75, 'eta': 0.085, 'eval_metric': 'mae', 'gamma': 0.72, 'max_depth': 12.0, 'min_child_weight': 8.0, 'nthread': 8, 'num_round': 100, 'objective': 'reg:linear', 'seed': 108, 'silent': 1, 'subsample': 0.8500000000000001}\n",
      "Score: 0.23272\n",
      "\n",
      "---------------------------------------------\n",
      "\n",
      "Training with the following parameters:\n",
      "{'colsample_bytree': 0.30000000000000004, 'eta': 0.005, 'eval_metric': 'mae', 'gamma': 0.61, 'max_depth': 11.0, 'min_child_weight': 10.0, 'nthread': 8, 'num_round': 100, 'objective': 'reg:linear', 'seed': 108, 'silent': 1, 'subsample': 0.75}\n",
      "Score: 0.55429\n",
      "\n",
      "---------------------------------------------\n",
      "\n",
      "Training with the following parameters:\n",
      "{'colsample_bytree': 0.55, 'eta': 0.36, 'eval_metric': 'mae', 'gamma': 0.96, 'max_depth': 15.0, 'min_child_weight': 9.0, 'nthread': 8, 'num_round': 100, 'objective': 'reg:linear', 'seed': 108, 'silent': 1, 'subsample': 1.0}\n",
      "Score: 0.2414\n",
      "\n",
      "---------------------------------------------\n",
      "\n",
      "Training with the following parameters:\n",
      "{'colsample_bytree': 0.8, 'eta': 0.195, 'eval_metric': 'mae', 'gamma': 0.87, 'max_depth': 10.0, 'min_child_weight': 5.0, 'nthread': 8, 'num_round': 100, 'objective': 'reg:linear', 'seed': 108, 'silent': 1, 'subsample': 0.9}\n",
      "Score: 0.23371\n",
      "\n",
      "---------------------------------------------\n",
      "\n",
      "Training with the following parameters:\n",
      "{'colsample_bytree': 0.4, 'eta': 0.23, 'eval_metric': 'mae', 'gamma': 0.92, 'max_depth': 14.0, 'min_child_weight': 6.0, 'nthread': 8, 'num_round': 100, 'objective': 'reg:linear', 'seed': 108, 'silent': 1, 'subsample': 1.0}\n",
      "Score: 0.23781\n",
      "\n",
      "---------------------------------------------\n",
      "\n",
      "Training with the following parameters:\n",
      "{'colsample_bytree': 0.8500000000000001, 'eta': 0.28, 'eval_metric': 'mae', 'gamma': 0.67, 'max_depth': 9.0, 'min_child_weight': 7.0, 'nthread': 8, 'num_round': 100, 'objective': 'reg:linear', 'seed': 108, 'silent': 1, 'subsample': 0.7000000000000001}\n",
      "Score: 0.2364\n",
      "\n",
      "---------------------------------------------\n",
      "\n",
      "Training with the following parameters:\n",
      "{'colsample_bytree': 0.7000000000000001, 'eta': 0.13, 'eval_metric': 'mae', 'gamma': 0.99, 'max_depth': 12.0, 'min_child_weight': 3.0, 'nthread': 8, 'num_round': 100, 'objective': 'reg:linear', 'seed': 108, 'silent': 1, 'subsample': 0.9}\n",
      "Score: 0.23252\n",
      "\n",
      "---------------------------------------------\n",
      "\n",
      "Training with the following parameters:\n",
      "{'colsample_bytree': 0.9, 'eta': 0.03, 'eval_metric': 'mae', 'gamma': 0.81, 'max_depth': 10.0, 'min_child_weight': 8.0, 'nthread': 8, 'num_round': 100, 'objective': 'reg:linear', 'seed': 108, 'silent': 1, 'subsample': 0.8}\n",
      "Score: 0.25607\n",
      "\n",
      "---------------------------------------------\n",
      "\n",
      "Training with the following parameters:\n",
      "{'colsample_bytree': 0.65, 'eta': 0.28500000000000003, 'eval_metric': 'mae', 'gamma': 0.48, 'max_depth': 11.0, 'min_child_weight': 6.0, 'nthread': 8, 'num_round': 100, 'objective': 'reg:linear', 'seed': 108, 'silent': 1, 'subsample': 0.6000000000000001}\n",
      "Score: 0.23849\n",
      "\n",
      "---------------------------------------------\n",
      "\n",
      "Training with the following parameters:\n",
      "{'colsample_bytree': 0.55, 'eta': 0.5, 'eval_metric': 'mae', 'gamma': 0.59, 'max_depth': 8.0, 'min_child_weight': 9.0, 'nthread': 8, 'num_round': 100, 'objective': 'reg:linear', 'seed': 108, 'silent': 1, 'subsample': 0.65}\n",
      "Score: 0.24174\n",
      "\n",
      "---------------------------------------------\n",
      "\n",
      "Training with the following parameters:\n",
      "{'colsample_bytree': 0.30000000000000004, 'eta': 0.23500000000000001, 'eval_metric': 'mae', 'gamma': 0.41000000000000003, 'max_depth': 13.0, 'min_child_weight': 7.0, 'nthread': 8, 'num_round': 100, 'objective': 'reg:linear', 'seed': 108, 'silent': 1, 'subsample': 0.8500000000000001}\n",
      "Score: 0.23947\n",
      "\n",
      "---------------------------------------------\n",
      "\n",
      "Training with the following parameters:\n",
      "{'colsample_bytree': 0.45, 'eta': 0.155, 'eval_metric': 'mae', 'gamma': 0.86, 'max_depth': 7.0, 'min_child_weight': 3.0, 'nthread': 8, 'num_round': 100, 'objective': 'reg:linear', 'seed': 108, 'silent': 1, 'subsample': 0.75}\n",
      "Score: 0.23725\n",
      "\n",
      "---------------------------------------------\n",
      "\n",
      "Training with the following parameters:\n",
      "{'colsample_bytree': 0.9, 'eta': 0.11, 'eval_metric': 'mae', 'gamma': 0.96, 'max_depth': 15.0, 'min_child_weight': 5.0, 'nthread': 8, 'num_round': 100, 'objective': 'reg:linear', 'seed': 108, 'silent': 1, 'subsample': 0.9}\n",
      "Score: 0.23257\n",
      "\n",
      "---------------------------------------------\n",
      "\n",
      "Training with the following parameters:\n",
      "{'colsample_bytree': 0.65, 'eta': 0.045, 'eval_metric': 'mae', 'gamma': 0.74, 'max_depth': 10.0, 'min_child_weight': 10.0, 'nthread': 8, 'num_round': 100, 'objective': 'reg:linear', 'seed': 108, 'silent': 1, 'subsample': 1.0}\n",
      "Score: 0.23983\n",
      "\n",
      "---------------------------------------------\n",
      "\n",
      "Training with the following parameters:\n",
      "{'colsample_bytree': 1.0, 'eta': 0.07, 'eval_metric': 'mae', 'gamma': 0.6900000000000001, 'max_depth': 11.0, 'min_child_weight': 8.0, 'nthread': 8, 'num_round': 100, 'objective': 'reg:linear', 'seed': 108, 'silent': 1, 'subsample': 0.9500000000000001}\n"
     ]
    },
    {
     "name": "stdout",
     "output_type": "stream",
     "text": [
      "Score: 0.23324\n",
      "\n",
      "---------------------------------------------\n",
      "\n",
      "Training with the following parameters:\n",
      "{'colsample_bytree': 0.35000000000000003, 'eta': 0.17500000000000002, 'eval_metric': 'mae', 'gamma': 0.53, 'max_depth': 14.0, 'min_child_weight': 6.0, 'nthread': 8, 'num_round': 100, 'objective': 'reg:linear', 'seed': 108, 'silent': 1, 'subsample': 0.6000000000000001}\n",
      "Score: 0.23843\n",
      "\n",
      "---------------------------------------------\n",
      "\n",
      "Training with the following parameters:\n",
      "{'colsample_bytree': 0.6000000000000001, 'eta': 0.125, 'eval_metric': 'mae', 'gamma': 0.9, 'max_depth': 9.0, 'min_child_weight': 4.0, 'nthread': 8, 'num_round': 100, 'objective': 'reg:linear', 'seed': 108, 'silent': 1, 'subsample': 1.0}\n",
      "Score: 0.23411\n",
      "\n",
      "---------------------------------------------\n",
      "\n",
      "Training with the following parameters:\n",
      "{'colsample_bytree': 0.9500000000000001, 'eta': 0.455, 'eval_metric': 'mae', 'gamma': 0.66, 'max_depth': 7.0, 'min_child_weight': 2.0, 'nthread': 8, 'num_round': 100, 'objective': 'reg:linear', 'seed': 108, 'silent': 1, 'subsample': 0.7000000000000001}\n",
      "Score: 0.23966\n",
      "\n",
      "---------------------------------------------\n",
      "\n",
      "Training with the following parameters:\n",
      "{'colsample_bytree': 0.8500000000000001, 'eta': 0.265, 'eval_metric': 'mae', 'gamma': 0.9500000000000001, 'max_depth': 4.0, 'min_child_weight': 9.0, 'nthread': 8, 'num_round': 100, 'objective': 'reg:linear', 'seed': 108, 'silent': 1, 'subsample': 0.8500000000000001}\n",
      "Score: 0.2411\n",
      "\n",
      "---------------------------------------------\n",
      "\n",
      "Training with the following parameters:\n",
      "{'colsample_bytree': 0.7000000000000001, 'eta': 0.32, 'eval_metric': 'mae', 'gamma': 0.8, 'max_depth': 8.0, 'min_child_weight': 10.0, 'nthread': 8, 'num_round': 100, 'objective': 'reg:linear', 'seed': 108, 'silent': 1, 'subsample': 0.8}\n",
      "Score: 0.23686\n",
      "\n",
      "---------------------------------------------\n",
      "\n",
      "Training with the following parameters:\n",
      "{'colsample_bytree': 0.8, 'eta': 0.195, 'eval_metric': 'mae', 'gamma': 0.85, 'max_depth': 13.0, 'min_child_weight': 7.0, 'nthread': 8, 'num_round': 100, 'objective': 'reg:linear', 'seed': 108, 'silent': 1, 'subsample': 0.9500000000000001}\n",
      "Score: 0.23346\n",
      "\n",
      "---------------------------------------------\n",
      "\n",
      "Training with the following parameters:\n",
      "{'colsample_bytree': 1.0, 'eta': 0.35000000000000003, 'eval_metric': 'mae', 'gamma': 0.5700000000000001, 'max_depth': 12.0, 'min_child_weight': 8.0, 'nthread': 8, 'num_round': 100, 'objective': 'reg:linear', 'seed': 108, 'silent': 1, 'subsample': 0.65}\n",
      "Score: 0.2413\n",
      "\n",
      "---------------------------------------------\n",
      "\n",
      "Training with the following parameters:\n",
      "{'colsample_bytree': 0.75, 'eta': 0.225, 'eval_metric': 'mae', 'gamma': 0.49, 'max_depth': 5.0, 'min_child_weight': 6.0, 'nthread': 8, 'num_round': 100, 'objective': 'reg:linear', 'seed': 108, 'silent': 1, 'subsample': 0.75}\n",
      "Score: 0.23998\n",
      "\n",
      "---------------------------------------------\n",
      "\n",
      "Training with the following parameters:\n",
      "{'colsample_bytree': 0.5, 'eta': 0.025, 'eval_metric': 'mae', 'gamma': 0.77, 'max_depth': 15.0, 'min_child_weight': 9.0, 'nthread': 8, 'num_round': 100, 'objective': 'reg:linear', 'seed': 108, 'silent': 1, 'subsample': 0.8}\n",
      "Score: 0.26873\n",
      "\n",
      "---------------------------------------------\n",
      "\n",
      "Training with the following parameters:\n",
      "{'colsample_bytree': 0.9, 'eta': 0.15, 'eval_metric': 'mae', 'gamma': 0.37, 'max_depth': 11.0, 'min_child_weight': 4.0, 'nthread': 8, 'num_round': 100, 'objective': 'reg:linear', 'seed': 108, 'silent': 1, 'subsample': 0.7000000000000001}\n",
      "Score: 0.23347\n",
      "\n",
      "---------------------------------------------\n",
      "\n",
      "Training with the following parameters:\n",
      "{'colsample_bytree': 0.45, 'eta': 0.09, 'eval_metric': 'mae', 'gamma': 0.92, 'max_depth': 14.0, 'min_child_weight': 10.0, 'nthread': 8, 'num_round': 100, 'objective': 'reg:linear', 'seed': 108, 'silent': 1, 'subsample': 0.9}\n",
      "Score: 0.23306\n",
      "\n",
      "---------------------------------------------\n",
      "\n",
      "Training with the following parameters:\n",
      "{'colsample_bytree': 0.55, 'eta': 0.3, 'eval_metric': 'mae', 'gamma': 0.74, 'max_depth': 3.0, 'min_child_weight': 9.0, 'nthread': 8, 'num_round': 100, 'objective': 'reg:linear', 'seed': 108, 'silent': 1, 'subsample': 0.8500000000000001}\n",
      "Score: 0.24263\n",
      "\n",
      "---------------------------------------------\n",
      "\n",
      "Training with the following parameters:\n",
      "{'colsample_bytree': 0.4, 'eta': 0.115, 'eval_metric': 'mae', 'gamma': 0.6900000000000001, 'max_depth': 13.0, 'min_child_weight': 8.0, 'nthread': 8, 'num_round': 100, 'objective': 'reg:linear', 'seed': 108, 'silent': 1, 'subsample': 0.9500000000000001}\n",
      "Score: 0.23376\n",
      "\n",
      "---------------------------------------------\n",
      "\n",
      "Training with the following parameters:\n",
      "{'colsample_bytree': 0.9500000000000001, 'eta': 0.05, 'eval_metric': 'mae', 'gamma': 0.8200000000000001, 'max_depth': 9.0, 'min_child_weight': 7.0, 'nthread': 8, 'num_round': 100, 'objective': 'reg:linear', 'seed': 108, 'silent': 1, 'subsample': 0.9500000000000001}\n",
      "Score: 0.23872\n",
      "\n",
      "---------------------------------------------\n",
      "\n",
      "Training with the following parameters:\n",
      "{'colsample_bytree': 0.35000000000000003, 'eta': 0.015, 'eval_metric': 'mae', 'gamma': 0.98, 'max_depth': 10.0, 'min_child_weight': 2.0, 'nthread': 8, 'num_round': 100, 'objective': 'reg:linear', 'seed': 108, 'silent': 1, 'subsample': 0.75}\n",
      "Score: 0.34468\n",
      "\n",
      "---------------------------------------------\n",
      "\n",
      "Training with the following parameters:\n",
      "{'colsample_bytree': 0.65, 'eta': 0.39, 'eval_metric': 'mae', 'gamma': 0.9, 'max_depth': 12.0, 'min_child_weight': 5.0, 'nthread': 8, 'num_round': 100, 'objective': 'reg:linear', 'seed': 108, 'silent': 1, 'subsample': 0.6000000000000001}\n",
      "Score: 0.24483\n",
      "\n",
      "---------------------------------------------\n",
      "\n",
      "Training with the following parameters:\n",
      "{'colsample_bytree': 0.6000000000000001, 'eta': 0.07, 'eval_metric': 'mae', 'gamma': 0.84, 'max_depth': 15.0, 'min_child_weight': 10.0, 'nthread': 8, 'num_round': 100, 'objective': 'reg:linear', 'seed': 108, 'silent': 1, 'subsample': 1.0}\n",
      "Score: 0.2325\n",
      "\n",
      "---------------------------------------------\n",
      "\n",
      "Training with the following parameters:\n",
      "{'colsample_bytree': 0.75, 'eta': 0.17, 'eval_metric': 'mae', 'gamma': 0.9400000000000001, 'max_depth': 15.0, 'min_child_weight': 9.0, 'nthread': 8, 'num_round': 100, 'objective': 'reg:linear', 'seed': 108, 'silent': 1, 'subsample': 1.0}\n",
      "Score: 0.23358\n",
      "\n",
      "---------------------------------------------\n",
      "\n",
      "Training with the following parameters:\n",
      "{'colsample_bytree': 0.8, 'eta': 0.085, 'eval_metric': 'mae', 'gamma': 0.88, 'max_depth': 14.0, 'min_child_weight': 8.0, 'nthread': 8, 'num_round': 100, 'objective': 'reg:linear', 'seed': 108, 'silent': 1, 'subsample': 0.9500000000000001}\n",
      "Score: 0.23174\n",
      "\n",
      "---------------------------------------------\n",
      "\n",
      "Training with the following parameters:\n",
      "{'colsample_bytree': 0.75, 'eta': 0.14, 'eval_metric': 'mae', 'gamma': 0.88, 'max_depth': 13.0, 'min_child_weight': 8.0, 'nthread': 8, 'num_round': 100, 'objective': 'reg:linear', 'seed': 108, 'silent': 1, 'subsample': 0.9500000000000001}\n",
      "Score: 0.23214\n",
      "\n",
      "---------------------------------------------\n",
      "\n",
      "Training with the following parameters:\n",
      "{'colsample_bytree': 0.8500000000000001, 'eta': 0.14, 'eval_metric': 'mae', 'gamma': 0.92, 'max_depth': 14.0, 'min_child_weight': 8.0, 'nthread': 8, 'num_round': 100, 'objective': 'reg:linear', 'seed': 108, 'silent': 1, 'subsample': 0.9500000000000001}\n",
      "Score: 0.2326\n",
      "\n",
      "---------------------------------------------\n",
      "\n",
      "Training with the following parameters:\n",
      "{'colsample_bytree': 0.8, 'eta': 0.095, 'eval_metric': 'mae', 'gamma': 0.98, 'max_depth': 13.0, 'min_child_weight': 7.0, 'nthread': 8, 'num_round': 100, 'objective': 'reg:linear', 'seed': 108, 'silent': 1, 'subsample': 0.9}\n",
      "Score: 0.23204\n",
      "\n",
      "---------------------------------------------\n",
      "\n",
      "Training with the following parameters:\n",
      "{'colsample_bytree': 0.8, 'eta': 0.195, 'eval_metric': 'mae', 'gamma': 0.88, 'max_depth': 14.0, 'min_child_weight': 6.0, 'nthread': 8, 'num_round': 100, 'objective': 'reg:linear', 'seed': 108, 'silent': 1, 'subsample': 0.9}\n",
      "Score: 0.23459\n",
      "\n",
      "---------------------------------------------\n",
      "\n",
      "Training with the following parameters:\n",
      "{'colsample_bytree': 0.8, 'eta': 0.245, 'eval_metric': 'mae', 'gamma': 0.97, 'max_depth': 13.0, 'min_child_weight': 7.0, 'nthread': 8, 'num_round': 100, 'objective': 'reg:linear', 'seed': 108, 'silent': 1, 'subsample': 0.9}\n"
     ]
    },
    {
     "name": "stdout",
     "output_type": "stream",
     "text": [
      "Score: 0.23514\n",
      "\n",
      "---------------------------------------------\n",
      "\n",
      "Training with the following parameters:\n",
      "{'colsample_bytree': 0.75, 'eta': 0.12, 'eval_metric': 'mae', 'gamma': 0.87, 'max_depth': 15.0, 'min_child_weight': 6.0, 'nthread': 8, 'num_round': 100, 'objective': 'reg:linear', 'seed': 108, 'silent': 1, 'subsample': 0.9500000000000001}\n",
      "Score: 0.23265\n",
      "\n",
      "---------------------------------------------\n",
      "\n",
      "Training with the following parameters:\n",
      "{'colsample_bytree': 0.8500000000000001, 'eta': 0.1, 'eval_metric': 'mae', 'gamma': 0.9, 'max_depth': 11.0, 'min_child_weight': 7.0, 'nthread': 8, 'num_round': 100, 'objective': 'reg:linear', 'seed': 108, 'silent': 1, 'subsample': 0.9500000000000001}\n",
      "Score: 0.23235\n",
      "\n",
      "---------------------------------------------\n",
      "\n",
      "Training with the following parameters:\n",
      "{'colsample_bytree': 0.7000000000000001, 'eta': 0.145, 'eval_metric': 'mae', 'gamma': 0.64, 'max_depth': 14.0, 'min_child_weight': 8.0, 'nthread': 8, 'num_round': 100, 'objective': 'reg:linear', 'seed': 108, 'silent': 1, 'subsample': 0.9500000000000001}\n",
      "Score: 0.23301\n",
      "\n",
      "---------------------------------------------\n",
      "\n",
      "Training with the following parameters:\n",
      "{'colsample_bytree': 0.8, 'eta': 0.215, 'eval_metric': 'mae', 'gamma': 0.73, 'max_depth': 13.0, 'min_child_weight': 7.0, 'nthread': 8, 'num_round': 100, 'objective': 'reg:linear', 'seed': 108, 'silent': 1, 'subsample': 0.8500000000000001}\n",
      "Score: 0.23512\n",
      "\n",
      "---------------------------------------------\n",
      "\n",
      "Training with the following parameters:\n",
      "{'colsample_bytree': 0.9, 'eta': 0.045, 'eval_metric': 'mae', 'gamma': 0.9400000000000001, 'max_depth': 12.0, 'min_child_weight': 5.0, 'nthread': 8, 'num_round': 100, 'objective': 'reg:linear', 'seed': 108, 'silent': 1, 'subsample': 0.9}\n",
      "Score: 0.23827\n",
      "\n",
      "---------------------------------------------\n",
      "\n",
      "Training with the following parameters:\n",
      "{'colsample_bytree': 0.75, 'eta': 0.06, 'eval_metric': 'mae', 'gamma': 0.99, 'max_depth': 14.0, 'min_child_weight': 7.0, 'nthread': 8, 'num_round': 100, 'objective': 'reg:linear', 'seed': 108, 'silent': 1, 'subsample': 1.0}\n",
      "Score: 0.23322\n",
      "\n",
      "---------------------------------------------\n",
      "\n",
      "Training with the following parameters:\n",
      "{'colsample_bytree': 0.9, 'eta': 0.165, 'eval_metric': 'mae', 'gamma': 1.0, 'max_depth': 12.0, 'min_child_weight': 8.0, 'nthread': 8, 'num_round': 100, 'objective': 'reg:linear', 'seed': 108, 'silent': 1, 'subsample': 0.9}\n",
      "Score: 0.23264\n",
      "\n",
      "---------------------------------------------\n",
      "\n",
      "Training with the following parameters:\n",
      "{'colsample_bytree': 0.8, 'eta': 0.085, 'eval_metric': 'mae', 'gamma': 0.84, 'max_depth': 13.0, 'min_child_weight': 6.0, 'nthread': 8, 'num_round': 100, 'objective': 'reg:linear', 'seed': 108, 'silent': 1, 'subsample': 0.9500000000000001}\n",
      "Score: 0.23205\n",
      "\n",
      "---------------------------------------------\n",
      "\n",
      "Training with the following parameters:\n",
      "{'colsample_bytree': 0.7000000000000001, 'eta': 0.015, 'eval_metric': 'mae', 'gamma': 0.8300000000000001, 'max_depth': 10.0, 'min_child_weight': 6.0, 'nthread': 8, 'num_round': 100, 'objective': 'reg:linear', 'seed': 108, 'silent': 1, 'subsample': 1.0}\n",
      "Score: 0.33807\n",
      "\n",
      "---------------------------------------------\n",
      "\n",
      "Training with the following parameters:\n",
      "{'colsample_bytree': 0.8, 'eta': 0.185, 'eval_metric': 'mae', 'gamma': 0.71, 'max_depth': 15.0, 'min_child_weight': 4.0, 'nthread': 8, 'num_round': 100, 'objective': 'reg:linear', 'seed': 108, 'silent': 1, 'subsample': 0.8500000000000001}\n",
      "Score: 0.23575\n",
      "\n",
      "---------------------------------------------\n",
      "\n",
      "Training with the following parameters:\n",
      "{'colsample_bytree': 0.8500000000000001, 'eta': 0.08, 'eval_metric': 'mae', 'gamma': 0.75, 'max_depth': 11.0, 'min_child_weight': 5.0, 'nthread': 8, 'num_round': 100, 'objective': 'reg:linear', 'seed': 108, 'silent': 1, 'subsample': 0.9}\n",
      "Score: 0.23289\n",
      "\n",
      "---------------------------------------------\n",
      "\n",
      "Training with the following parameters:\n",
      "{'colsample_bytree': 0.9500000000000001, 'eta': 0.035, 'eval_metric': 'mae', 'gamma': 0.8, 'max_depth': 6.0, 'min_child_weight': 6.0, 'nthread': 8, 'num_round': 100, 'objective': 'reg:linear', 'seed': 108, 'silent': 1, 'subsample': 1.0}\n",
      "Score: 0.25279\n",
      "\n",
      "---------------------------------------------\n",
      "\n",
      "Training with the following parameters:\n",
      "{'colsample_bytree': 0.65, 'eta': 0.1, 'eval_metric': 'mae', 'gamma': 0.85, 'max_depth': 13.0, 'min_child_weight': 4.0, 'nthread': 8, 'num_round': 100, 'objective': 'reg:linear', 'seed': 108, 'silent': 1, 'subsample': 0.9500000000000001}\n",
      "Score: 0.23212\n",
      "\n",
      "---------------------------------------------\n",
      "\n",
      "Training with the following parameters:\n",
      "{'colsample_bytree': 0.6000000000000001, 'eta': 0.06, 'eval_metric': 'mae', 'gamma': 0.31, 'max_depth': 14.0, 'min_child_weight': 3.0, 'nthread': 8, 'num_round': 100, 'objective': 'reg:linear', 'seed': 108, 'silent': 1, 'subsample': 0.9}\n",
      "Score: 0.23377\n",
      "\n",
      "---------------------------------------------\n",
      "\n",
      "Training with the following parameters:\n",
      "{'colsample_bytree': 0.9, 'eta': 0.115, 'eval_metric': 'mae', 'gamma': 0.61, 'max_depth': 12.0, 'min_child_weight': 5.0, 'nthread': 8, 'num_round': 100, 'objective': 'reg:linear', 'seed': 108, 'silent': 1, 'subsample': 1.0}\n",
      "Score: 0.23165\n",
      "\n",
      "---------------------------------------------\n",
      "\n",
      "Training with the following parameters:\n",
      "{'colsample_bytree': 1.0, 'eta': 0.13, 'eval_metric': 'mae', 'gamma': 0.44, 'max_depth': 12.0, 'min_child_weight': 5.0, 'nthread': 8, 'num_round': 100, 'objective': 'reg:linear', 'seed': 108, 'silent': 1, 'subsample': 1.0}\n",
      "Score: 0.23164\n",
      "\n",
      "---------------------------------------------\n",
      "\n",
      "Training with the following parameters:\n",
      "{'colsample_bytree': 1.0, 'eta': 0.26, 'eval_metric': 'mae', 'gamma': 0.43, 'max_depth': 10.0, 'min_child_weight': 3.0, 'nthread': 8, 'num_round': 100, 'objective': 'reg:linear', 'seed': 108, 'silent': 1, 'subsample': 1.0}\n",
      "Score: 0.23424\n",
      "\n",
      "---------------------------------------------\n",
      "\n",
      "Training with the following parameters:\n",
      "{'colsample_bytree': 0.9500000000000001, 'eta': 0.16, 'eval_metric': 'mae', 'gamma': 0.37, 'max_depth': 11.0, 'min_child_weight': 5.0, 'nthread': 8, 'num_round': 100, 'objective': 'reg:linear', 'seed': 108, 'silent': 1, 'subsample': 1.0}\n",
      "Score: 0.23225\n",
      "\n",
      "---------------------------------------------\n",
      "\n",
      "Training with the following parameters:\n",
      "{'colsample_bytree': 0.9, 'eta': 0.20500000000000002, 'eval_metric': 'mae', 'gamma': 0.51, 'max_depth': 12.0, 'min_child_weight': 2.0, 'nthread': 8, 'num_round': 100, 'objective': 'reg:linear', 'seed': 108, 'silent': 1, 'subsample': 1.0}\n",
      "Score: 0.23331\n",
      "\n",
      "---------------------------------------------\n",
      "\n",
      "Training with the following parameters:\n",
      "{'colsample_bytree': 1.0, 'eta': 0.13, 'eval_metric': 'mae', 'gamma': 0.39, 'max_depth': 8.0, 'min_child_weight': 4.0, 'nthread': 8, 'num_round': 100, 'objective': 'reg:linear', 'seed': 108, 'silent': 1, 'subsample': 1.0}\n",
      "Score: 0.23506\n",
      "\n",
      "---------------------------------------------\n",
      "\n",
      "Training with the following parameters:\n",
      "{'colsample_bytree': 0.9500000000000001, 'eta': 0.3, 'eval_metric': 'mae', 'gamma': 0.34, 'max_depth': 9.0, 'min_child_weight': 5.0, 'nthread': 8, 'num_round': 100, 'objective': 'reg:linear', 'seed': 108, 'silent': 1, 'subsample': 0.9500000000000001}\n",
      "Score: 0.23521\n",
      "\n",
      "---------------------------------------------\n",
      "\n",
      "Training with the following parameters:\n",
      "{'colsample_bytree': 0.9, 'eta': 0.19, 'eval_metric': 'mae', 'gamma': 0.47000000000000003, 'max_depth': 12.0, 'min_child_weight': 3.0, 'nthread': 8, 'num_round': 100, 'objective': 'reg:linear', 'seed': 108, 'silent': 1, 'subsample': 1.0}\n",
      "Score: 0.23285\n",
      "\n",
      "---------------------------------------------\n",
      "\n",
      "Training with the following parameters:\n",
      "{'colsample_bytree': 1.0, 'eta': 0.11, 'eval_metric': 'mae', 'gamma': 0.61, 'max_depth': 11.0, 'min_child_weight': 4.0, 'nthread': 8, 'num_round': 100, 'objective': 'reg:linear', 'seed': 108, 'silent': 1, 'subsample': 0.9500000000000001}\n",
      "Score: 0.23205\n",
      "\n",
      "---------------------------------------------\n",
      "\n",
      "Training with the following parameters:\n",
      "{'colsample_bytree': 0.8500000000000001, 'eta': 0.225, 'eval_metric': 'mae', 'gamma': 0.55, 'max_depth': 7.0, 'min_child_weight': 4.0, 'nthread': 8, 'num_round': 100, 'objective': 'reg:linear', 'seed': 108, 'silent': 1, 'subsample': 1.0}\n",
      "Score: 0.23665\n",
      "\n",
      "---------------------------------------------\n",
      "\n"
     ]
    },
    {
     "name": "stdout",
     "output_type": "stream",
     "text": [
      "Training with the following parameters:\n",
      "{'colsample_bytree': 0.9500000000000001, 'eta': 0.04, 'eval_metric': 'mae', 'gamma': 0.59, 'max_depth': 10.0, 'min_child_weight': 3.0, 'nthread': 8, 'num_round': 100, 'objective': 'reg:linear', 'seed': 108, 'silent': 1, 'subsample': 0.9500000000000001}\n",
      "Score: 0.24277\n",
      "\n",
      "---------------------------------------------\n",
      "\n",
      "Training with the following parameters:\n",
      "{'colsample_bytree': 0.9500000000000001, 'eta': 0.075, 'eval_metric': 'mae', 'gamma': 0.45, 'max_depth': 5.0, 'min_child_weight': 1.0, 'nthread': 8, 'num_round': 100, 'objective': 'reg:linear', 'seed': 108, 'silent': 1, 'subsample': 0.8500000000000001}\n",
      "Score: 0.2405\n",
      "\n",
      "---------------------------------------------\n",
      "\n",
      "Training with the following parameters:\n",
      "{'colsample_bytree': 0.9, 'eta': 0.27, 'eval_metric': 'mae', 'gamma': 0.5700000000000001, 'max_depth': 9.0, 'min_child_weight': 5.0, 'nthread': 8, 'num_round': 100, 'objective': 'reg:linear', 'seed': 108, 'silent': 1, 'subsample': 1.0}\n",
      "Score: 0.23475\n",
      "\n",
      "---------------------------------------------\n",
      "\n"
     ]
    }
   ],
   "source": [
    "# performing the tuning trials\n",
    "trials = Trials()\n",
    "best_params = optimize(trials, task_params = task_pars, max_evals = 10)"
   ]
  },
  {
   "cell_type": "code",
   "execution_count": 15,
   "metadata": {},
   "outputs": [
    {
     "data": {
      "text/plain": [
       "{'colsample_bytree': 1.0,\n",
       " 'eta': 0.13,\n",
       " 'eval_metric': 'mae',\n",
       " 'gamma': 0.44,\n",
       " 'max_depth': 12,\n",
       " 'min_child_weight': 5.0,\n",
       " 'nthread': 8,\n",
       " 'objective': 'reg:linear',\n",
       " 'seed': 108,\n",
       " 'silent': 1,\n",
       " 'subsample': 1.0}"
      ]
     },
     "execution_count": 15,
     "metadata": {},
     "output_type": "execute_result"
    }
   ],
   "source": [
    "# adding task parameters\n",
    "best_params.update(task_pars)\n",
    "\n",
    "# converting to integer\n",
    "best_params[\"max_depth\"] = int(best_params[\"max_depth\"])\n",
    "best_params[\"seed\"]      = int(best_params[\"seed\"])\n",
    "best_params"
   ]
  },
  {
   "cell_type": "code",
   "execution_count": 16,
   "metadata": {},
   "outputs": [],
   "source": [
    "# saving the best params\n",
    "pickle.dump(best_params, open(\"../files/full_xgb_par_10iter_transform_nested_extravar.p\", \"wb\"))"
   ]
  },
  {
   "cell_type": "code",
   "execution_count": 15,
   "metadata": {},
   "outputs": [
    {
     "data": {
      "text/plain": [
       "{'colsample_bytree': 0.45,\n",
       " 'eta': 0.17500000000000002,\n",
       " 'eval_metric': 'mae',\n",
       " 'gamma': 0.47000000000000003,\n",
       " 'max_depth': 7,\n",
       " 'min_child_weight': 6.0,\n",
       " 'nthread': 8,\n",
       " 'objective': 'reg:linear',\n",
       " 'seed': 108,\n",
       " 'silent': 1,\n",
       " 'subsample': 0.75}"
      ]
     },
     "execution_count": 15,
     "metadata": {},
     "output_type": "execute_result"
    }
   ],
   "source": [
    "# loading the best params\n",
    "best_params = pickle.load(open(\"../files/full_xgb_par_10iter_transform_nested_extravar.p\", \"rb\" ))\n",
    "best_params"
   ]
  },
  {
   "cell_type": "markdown",
   "metadata": {},
   "source": [
    "## 2.2. PERFORMING CROSS-VALIDATION"
   ]
  },
  {
   "cell_type": "markdown",
   "metadata": {},
   "source": [
    "### 2.2.1. LAGS 1-12"
   ]
  },
  {
   "cell_type": "code",
   "execution_count": 16,
   "metadata": {},
   "outputs": [],
   "source": [
    "# transforming dataframes\n",
    "d_known   = xgb.DMatrix(X_known.drop(\"ID\",   axis = 1), label = y_known)\n",
    "d_unknown = xgb.DMatrix(X_unknown.drop(\"ID\", axis = 1))"
   ]
  },
  {
   "cell_type": "code",
   "execution_count": 17,
   "metadata": {},
   "outputs": [],
   "source": [
    "# CV settings\n",
    "num_rounds = 100\n",
    "num_folds  = 4\n",
    "verbose    = 1"
   ]
  },
  {
   "cell_type": "code",
   "execution_count": null,
   "metadata": {
    "scrolled": true
   },
   "outputs": [
    {
     "name": "stdout",
     "output_type": "stream",
     "text": [
      "[0]\ttrain-mae:0.6921\ttest-mae:0.693035\n",
      "[1]\ttrain-mae:0.626527\ttest-mae:0.628418\n",
      "[2]\ttrain-mae:0.570002\ttest-mae:0.57287\n",
      "[3]\ttrain-mae:0.521207\ttest-mae:0.525029\n",
      "[4]\ttrain-mae:0.479011\ttest-mae:0.483807\n",
      "[5]\ttrain-mae:0.442626\ttest-mae:0.448367\n",
      "[6]\ttrain-mae:0.411213\ttest-mae:0.417883\n",
      "[7]\ttrain-mae:0.384161\ttest-mae:0.391741\n",
      "[8]\ttrain-mae:0.360862\ttest-mae:0.369344\n",
      "[9]\ttrain-mae:0.340822\ttest-mae:0.350159\n",
      "[10]\ttrain-mae:0.323589\ttest-mae:0.333755\n",
      "[11]\ttrain-mae:0.308758\ttest-mae:0.319728\n",
      "[12]\ttrain-mae:0.296041\ttest-mae:0.307781\n",
      "[13]\ttrain-mae:0.28512\ttest-mae:0.297592\n",
      "[14]\ttrain-mae:0.275691\ttest-mae:0.288865\n",
      "[15]\ttrain-mae:0.267586\ttest-mae:0.281442\n",
      "[16]\ttrain-mae:0.260579\ttest-mae:0.275074\n",
      "[17]\ttrain-mae:0.254499\ttest-mae:0.26962\n",
      "[18]\ttrain-mae:0.249255\ttest-mae:0.264971\n",
      "[19]\ttrain-mae:0.244675\ttest-mae:0.260984\n",
      "[20]\ttrain-mae:0.240664\ttest-mae:0.257542\n",
      "[21]\ttrain-mae:0.237179\ttest-mae:0.254595\n",
      "[22]\ttrain-mae:0.234123\ttest-mae:0.252038\n",
      "[23]\ttrain-mae:0.23141\ttest-mae:0.249801\n",
      "[24]\ttrain-mae:0.228979\ttest-mae:0.247862\n",
      "[25]\ttrain-mae:0.226795\ttest-mae:0.246153\n",
      "[26]\ttrain-mae:0.224911\ttest-mae:0.244696\n",
      "[27]\ttrain-mae:0.223205\ttest-mae:0.24342\n",
      "[28]\ttrain-mae:0.221617\ttest-mae:0.242245\n",
      "[29]\ttrain-mae:0.220175\ttest-mae:0.241203\n",
      "[30]\ttrain-mae:0.218907\ttest-mae:0.240343\n",
      "[31]\ttrain-mae:0.217699\ttest-mae:0.239524\n",
      "[32]\ttrain-mae:0.216587\ttest-mae:0.238789\n",
      "[33]\ttrain-mae:0.215571\ttest-mae:0.238135\n",
      "[34]\ttrain-mae:0.21467\ttest-mae:0.237576\n",
      "[35]\ttrain-mae:0.213818\ttest-mae:0.237102\n",
      "[36]\ttrain-mae:0.213039\ttest-mae:0.236659\n"
     ]
    }
   ],
   "source": [
    "# performing cross-validation\n",
    "cv = xgb.cv(best_params, d_known, verbose_eval = verbose, stratified = False,\n",
    "            nfold = num_folds, show_stdv = False, num_boost_round = num_rounds)\n",
    "print(\"Optimal number of trees: \" + str(1 + cv[\"test-mae-mean\"].argmin()))\n",
    "print(\"Estimated error value: \"   + str(round(cv.loc[cv[\"test-mae-mean\"].argmin()][\"test-mae-mean\"], 4)))"
   ]
  },
  {
   "cell_type": "code",
   "execution_count": 19,
   "metadata": {},
   "outputs": [],
   "source": [
    "# train the optimal model\n",
    "xgb_best = xgb.train(best_params, d_known, num_boost_round = cv[\"test-mae-mean\"].argmin())"
   ]
  },
  {
   "cell_type": "code",
   "execution_count": 20,
   "metadata": {},
   "outputs": [],
   "source": [
    "# list feature names\n",
    "features = list(X_known.drop([\"ID\"], axis = 1).columns)\n",
    "\n",
    "# function for exporting\n",
    "def create_feature_map(features):\n",
    "    outfile = open(\"../files/xgb.fmap\", \"w\")\n",
    "    i = 0\n",
    "    for feat in features:\n",
    "        outfile.write(\"{0}\\t{1}\\tq\\n\".format(i, feat))\n",
    "        i = i + 1\n",
    "    outfile.close()\n",
    "    \n",
    "# export feature names as a file\n",
    "create_feature_map(features)"
   ]
  },
  {
   "cell_type": "code",
   "execution_count": 21,
   "metadata": {},
   "outputs": [
    {
     "data": {
      "text/plain": [
       "Text(0,0.5,'')"
      ]
     },
     "execution_count": 21,
     "metadata": {},
     "output_type": "execute_result"
    },
    {
     "data": {
      "text/plain": [
       "<matplotlib.figure.Figure at 0x1a34178be0>"
      ]
     },
     "metadata": {},
     "output_type": "display_data"
    },
    {
     "data": {
      "image/png": "[encoded data removed]",
      "text/plain": [
       "<matplotlib.figure.Figure at 0x1a33f71ba8>"
      ]
     },
     "metadata": {},
     "output_type": "display_data"
    }
   ],
   "source": [
    "# extract feature importance\n",
    "import operator\n",
    "importance = xgb_best.get_fscore(fmap = \"../files/xgb.fmap\")\n",
    "importance = sorted(importance.items(), key = operator.itemgetter(1))\n",
    "\n",
    "# store in a dataframe\n",
    "var_imp = pd.DataFrame(importance, columns = [\"feature\", \"fscore\"])\n",
    "var_imp[\"fscore\"] = var_imp[\"fscore\"] / var_imp[\"fscore\"].sum()\n",
    "\n",
    "# create a plot\n",
    "plt.figure()\n",
    "var_imp.plot(kind = \"barh\", x = \"feature\", y = \"fscore\", legend = False, figsize = (10, 12))\n",
    "plt.title(\"XGBoost Feature Importance\")\n",
    "plt.xlabel(\"Relative Importance\")\n",
    "plt.ylabel(\"\")"
   ]
  },
  {
   "cell_type": "code",
   "execution_count": 22,
   "metadata": {},
   "outputs": [
    {
     "data": {
      "text/plain": [
       "array([3.7905898 , 1.4655979 , 0.20897126, ..., 0.28286028, 2.3096752 ,\n",
       "       0.02775228], dtype=float32)"
      ]
     },
     "execution_count": 22,
     "metadata": {},
     "output_type": "execute_result"
    }
   ],
   "source": [
    "# predicting the unknown data\n",
    "pred_1 = xgb_best.predict(d_unknown)\n",
    "pred_1 = np.exp(pred_1) - 1\n",
    "pred_1"
   ]
  },
  {
   "cell_type": "markdown",
   "metadata": {},
   "source": [
    "### 2.2.2. LAGS 2-12"
   ]
  },
  {
   "cell_type": "code",
   "execution_count": 23,
   "metadata": {},
   "outputs": [],
   "source": [
    "# transforming dataframes\n",
    "d_known   = xgb.DMatrix(X_known.drop([\"ID\", \"lag_1\"], axis = 1), label = y_known)\n",
    "d_unknown = xgb.DMatrix(X_unknown.drop([\"ID\", \"lag_1\"], axis = 1))"
   ]
  },
  {
   "cell_type": "code",
   "execution_count": 24,
   "metadata": {},
   "outputs": [],
   "source": [
    "# CV settings\n",
    "num_rounds = 100\n",
    "num_folds  = 4\n",
    "verbose    = 1"
   ]
  },
  {
   "cell_type": "code",
   "execution_count": null,
   "metadata": {
    "scrolled": true
   },
   "outputs": [],
   "source": [
    "# performing cross-validation\n",
    "cv = xgb.cv(best_params, d_known, verbose_eval = verbose, stratified = False,\n",
    "            nfold = num_folds, show_stdv = False, num_boost_round = num_rounds)\n",
    "print(\"Optimal number of trees: \" + str(1 + cv[\"test-mae-mean\"].argmin()))\n",
    "print(\"Estimated error value: \"   + str(round(cv.loc[cv[\"test-mae-mean\"].argmin()][\"test-mae-mean\"], 4)))"
   ]
  },
  {
   "cell_type": "code",
   "execution_count": 25,
   "metadata": {},
   "outputs": [],
   "source": [
    "# train the optimal model\n",
    "xgb_best = xgb.train(best_params, d_known, num_boost_round = cv[\"test-mae-mean\"].argmin())"
   ]
  },
  {
   "cell_type": "code",
   "execution_count": 26,
   "metadata": {},
   "outputs": [],
   "source": [
    "# list feature names\n",
    "features = list(X_known.drop([\"ID\", \"lag_1\"], axis = 1).columns)\n",
    "\n",
    "# function for exporting\n",
    "def create_feature_map(features):\n",
    "    outfile = open(\"../files/xgb.fmap\", \"w\")\n",
    "    i = 0\n",
    "    for feat in features:\n",
    "        outfile.write(\"{0}\\t{1}\\tq\\n\".format(i, feat))\n",
    "        i = i + 1\n",
    "    outfile.close()\n",
    "    \n",
    "# export feature names as a file\n",
    "create_feature_map(features)"
   ]
  },
  {
   "cell_type": "code",
   "execution_count": 27,
   "metadata": {},
   "outputs": [
    {
     "data": {
      "text/plain": [
       "Text(0,0.5,'')"
      ]
     },
     "execution_count": 27,
     "metadata": {},
     "output_type": "execute_result"
    },
    {
     "data": {
      "text/plain": [
       "<matplotlib.figure.Figure at 0x1a341a6cf8>"
      ]
     },
     "metadata": {},
     "output_type": "display_data"
    },
    {
     "data": {
      "image/png": "[encoded data removed]",
      "text/plain": [
       "<matplotlib.figure.Figure at 0x11142ce80>"
      ]
     },
     "metadata": {},
     "output_type": "display_data"
    }
   ],
   "source": [
    "# extract feature importance\n",
    "import operator\n",
    "importance = xgb_best.get_fscore(fmap = \"../files/xgb.fmap\")\n",
    "importance = sorted(importance.items(), key = operator.itemgetter(1))\n",
    "\n",
    "# store in a dataframe\n",
    "var_imp = pd.DataFrame(importance, columns = [\"feature\", \"fscore\"])\n",
    "var_imp[\"fscore\"] = var_imp[\"fscore\"] / var_imp[\"fscore\"].sum()\n",
    "\n",
    "# create a plot\n",
    "plt.figure()\n",
    "var_imp.plot(kind = \"barh\", x = \"feature\", y = \"fscore\", legend = False, figsize = (10, 12))\n",
    "plt.title(\"XGBoost Feature Importance\")\n",
    "plt.xlabel(\"Relative Importance\")\n",
    "plt.ylabel(\"\")"
   ]
  },
  {
   "cell_type": "code",
   "execution_count": 28,
   "metadata": {},
   "outputs": [
    {
     "data": {
      "text/plain": [
       "array([6.179949  , 1.5739014 , 0.16326451, ..., 0.36261547, 2.8579085 ,\n",
       "       0.02841079], dtype=float32)"
      ]
     },
     "execution_count": 28,
     "metadata": {},
     "output_type": "execute_result"
    }
   ],
   "source": [
    "# predicting the unknown data\n",
    "pred_2 = xgb_best.predict(d_unknown)\n",
    "pred_2 = np.exp(pred_2) - 1\n",
    "pred_2"
   ]
  },
  {
   "cell_type": "markdown",
   "metadata": {},
   "source": [
    "### 2.2.3. LAGS 3-12"
   ]
  },
  {
   "cell_type": "code",
   "execution_count": 29,
   "metadata": {},
   "outputs": [],
   "source": [
    "# transforming dataframes\n",
    "d_known   = xgb.DMatrix(X_known.drop([\"ID\", \"lag_1\", \"lag_2\"], axis = 1), label = y_known)\n",
    "d_unknown = xgb.DMatrix(X_unknown.drop([\"ID\", \"lag_1\", \"lag_2\"], axis = 1))"
   ]
  },
  {
   "cell_type": "code",
   "execution_count": 30,
   "metadata": {},
   "outputs": [],
   "source": [
    "# CV settings\n",
    "num_rounds = 100\n",
    "num_folds  = 4\n",
    "verbose    = 1"
   ]
  },
  {
   "cell_type": "code",
   "execution_count": null,
   "metadata": {
    "scrolled": true
   },
   "outputs": [],
   "source": [
    "# performing cross-validation\n",
    "cv = xgb.cv(best_params, d_known, verbose_eval = verbose, stratified = False,\n",
    "            nfold = num_folds, show_stdv = False, num_boost_round = num_rounds)\n",
    "print(\"Optimal number of trees: \" + str(1 + cv[\"test-mae-mean\"].argmin()))\n",
    "print(\"Estimated error value: \"   + str(round(cv.loc[cv[\"test-mae-mean\"].argmin()][\"test-mae-mean\"], 4)))"
   ]
  },
  {
   "cell_type": "code",
   "execution_count": 31,
   "metadata": {},
   "outputs": [],
   "source": [
    "# train the optimal model\n",
    "xgb_best = xgb.train(best_params, d_known, num_boost_round = cv[\"test-mae-mean\"].argmin())"
   ]
  },
  {
   "cell_type": "code",
   "execution_count": 32,
   "metadata": {},
   "outputs": [],
   "source": [
    "# list feature names\n",
    "features = list(X_known.drop([\"ID\", \"lag_1\", \"lag_2\"], axis = 1).columns)\n",
    "\n",
    "# function for exporting\n",
    "def create_feature_map(features):\n",
    "    outfile = open(\"../files/xgb.fmap\", \"w\")\n",
    "    i = 0\n",
    "    for feat in features:\n",
    "        outfile.write(\"{0}\\t{1}\\tq\\n\".format(i, feat))\n",
    "        i = i + 1\n",
    "    outfile.close()\n",
    "    \n",
    "# export feature names as a file\n",
    "create_feature_map(features)"
   ]
  },
  {
   "cell_type": "code",
   "execution_count": 33,
   "metadata": {},
   "outputs": [
    {
     "data": {
      "text/plain": [
       "Text(0,0.5,'')"
      ]
     },
     "execution_count": 33,
     "metadata": {},
     "output_type": "execute_result"
    },
    {
     "data": {
      "text/plain": [
       "<matplotlib.figure.Figure at 0x1114564e0>"
      ]
     },
     "metadata": {},
     "output_type": "display_data"
    },
    {
     "data": {
      "image/png": "[encoded data removed]",
      "text/plain": [
       "<matplotlib.figure.Figure at 0x117846ef0>"
      ]
     },
     "metadata": {},
     "output_type": "display_data"
    }
   ],
   "source": [
    "# extract feature importance\n",
    "import operator\n",
    "importance = xgb_best.get_fscore(fmap = \"../files/xgb.fmap\")\n",
    "importance = sorted(importance.items(), key = operator.itemgetter(1))\n",
    "\n",
    "# store in a dataframe\n",
    "var_imp = pd.DataFrame(importance, columns = [\"feature\", \"fscore\"])\n",
    "var_imp[\"fscore\"] = var_imp[\"fscore\"] / var_imp[\"fscore\"].sum()\n",
    "\n",
    "# create a plot\n",
    "plt.figure()\n",
    "var_imp.plot(kind = \"barh\", x = \"feature\", y = \"fscore\", legend = False, figsize = (10, 12))\n",
    "plt.title(\"XGBoost Feature Importance\")\n",
    "plt.xlabel(\"Relative Importance\")\n",
    "plt.ylabel(\"\")"
   ]
  },
  {
   "cell_type": "code",
   "execution_count": 34,
   "metadata": {},
   "outputs": [
    {
     "data": {
      "text/plain": [
       "array([4.7598214 , 1.2107205 , 0.27647316, ..., 0.45976472, 3.7640662 ,\n",
       "       0.08295214], dtype=float32)"
      ]
     },
     "execution_count": 34,
     "metadata": {},
     "output_type": "execute_result"
    }
   ],
   "source": [
    "# predicting the unknown data\n",
    "pred_3 = xgb_best.predict(d_unknown)\n",
    "pred_3 = np.exp(pred_3) - 1\n",
    "pred_3"
   ]
  },
  {
   "cell_type": "markdown",
   "metadata": {},
   "source": [
    "## 2.4. CREATING SUBMISSION"
   ]
  },
  {
   "cell_type": "code",
   "execution_count": 35,
   "metadata": {},
   "outputs": [
    {
     "data": {
      "text/html": [
       "<div>\n",
       "<style scoped>\n",
       "    .dataframe tbody tr th:only-of-type {\n",
       "        vertical-align: middle;\n",
       "    }\n",
       "\n",
       "    .dataframe tbody tr th {\n",
       "        vertical-align: top;\n",
       "    }\n",
       "\n",
       "    .dataframe thead th {\n",
       "        text-align: right;\n",
       "    }\n",
       "</style>\n",
       "<table border=\"1\" class=\"dataframe\">\n",
       "  <thead>\n",
       "    <tr style=\"text-align: right;\">\n",
       "      <th></th>\n",
       "      <th>ID</th>\n",
       "      <th>p1</th>\n",
       "      <th>p2</th>\n",
       "      <th>p3</th>\n",
       "    </tr>\n",
       "  </thead>\n",
       "  <tbody>\n",
       "    <tr>\n",
       "      <th>0</th>\n",
       "      <td>0</td>\n",
       "      <td>3.790590</td>\n",
       "      <td>6.179949</td>\n",
       "      <td>4.759821</td>\n",
       "    </tr>\n",
       "    <tr>\n",
       "      <th>1</th>\n",
       "      <td>1</td>\n",
       "      <td>1.465598</td>\n",
       "      <td>1.573901</td>\n",
       "      <td>1.210721</td>\n",
       "    </tr>\n",
       "    <tr>\n",
       "      <th>2</th>\n",
       "      <td>2</td>\n",
       "      <td>0.208971</td>\n",
       "      <td>0.163265</td>\n",
       "      <td>0.276473</td>\n",
       "    </tr>\n",
       "    <tr>\n",
       "      <th>3</th>\n",
       "      <td>3</td>\n",
       "      <td>1.071173</td>\n",
       "      <td>1.284117</td>\n",
       "      <td>1.496083</td>\n",
       "    </tr>\n",
       "    <tr>\n",
       "      <th>4</th>\n",
       "      <td>4</td>\n",
       "      <td>0.426048</td>\n",
       "      <td>0.407796</td>\n",
       "      <td>0.584732</td>\n",
       "    </tr>\n",
       "  </tbody>\n",
       "</table>\n",
       "</div>"
      ],
      "text/plain": [
       "   ID        p1        p2        p3\n",
       "0   0  3.790590  6.179949  4.759821\n",
       "1   1  1.465598  1.573901  1.210721\n",
       "2   2  0.208971  0.163265  0.276473\n",
       "3   3  1.071173  1.284117  1.496083\n",
       "4   4  0.426048  0.407796  0.584732"
      ]
     },
     "execution_count": 35,
     "metadata": {},
     "output_type": "execute_result"
    }
   ],
   "source": [
    "# creating the data frame\n",
    "sub = pd.concat([X_unknown[\"ID\"].reset_index(drop = True), \n",
    "                  pd.Series(pred_1).reset_index(drop = True),\n",
    "                  pd.Series(pred_2).reset_index(drop = True),\n",
    "                  pd.Series(pred_3).reset_index(drop = True)],\n",
    "                  axis = 1)\n",
    "sub.columns = [\"ID\", \"p1\", \"p2\", \"p3\"]\n",
    "sub[\"ID\"] = sub[\"ID\"].astype(\"int\")\n",
    "sub = sub.sort_values(by = \"ID\")\n",
    "sub.head()"
   ]
  },
  {
   "cell_type": "code",
   "execution_count": 36,
   "metadata": {},
   "outputs": [],
   "source": [
    "# computing demand\n",
    "sub[\"demand\"] = sub.p3\n",
    "id_pred_2 = list(X_unknown[-X_unknown.lag_2.isnull()].ID.astype(\"int\"))\n",
    "sub.loc[sub[\"ID\"].isin(id_pred_2), \"demand\"] = sub[sub[\"ID\"].isin(id_pred_2)][\"p2\"]\n",
    "id_pred_1 = list(X_unknown[-X_unknown.lag_1.isnull()].ID.astype(\"int\"))\n",
    "sub.loc[sub[\"ID\"].isin(id_pred_1), \"demand\"] = sub[sub[\"ID\"].isin(id_pred_2)][\"p1\"]"
   ]
  },
  {
   "cell_type": "code",
   "execution_count": 37,
   "metadata": {},
   "outputs": [],
   "source": [
    "# create submission matrix\n",
    "subm = sub[[\"ID\", \"demand\"]]"
   ]
  },
  {
   "cell_type": "code",
   "execution_count": 38,
   "metadata": {},
   "outputs": [],
   "source": [
    "# smart edit 1: removing negative values\n",
    "subm.demand[subm.demand < 0] = 0"
   ]
  },
  {
   "cell_type": "code",
   "execution_count": 39,
   "metadata": {},
   "outputs": [],
   "source": [
    "# smart edit 2: impute zeros if lags 3-12 are zeros\n",
    "lags = [col for col in X_unknown.columns if \"lag\" in col]\n",
    "lags = X_unknown[lags]\n",
    "lags = lags.sum(axis = 1)\n",
    "lags = lags[lags == 0]\n",
    "null_ids = list(X_unknown.ix[lags.index].ID.astype(\"int\"))\n",
    "subm.demand[subm.ID.isin(null_ids)] = 0"
   ]
  },
  {
   "cell_type": "code",
   "execution_count": 40,
   "metadata": {},
   "outputs": [
    {
     "data": {
      "text/html": [
       "<div>\n",
       "<style scoped>\n",
       "    .dataframe tbody tr th:only-of-type {\n",
       "        vertical-align: middle;\n",
       "    }\n",
       "\n",
       "    .dataframe tbody tr th {\n",
       "        vertical-align: top;\n",
       "    }\n",
       "\n",
       "    .dataframe thead th {\n",
       "        text-align: right;\n",
       "    }\n",
       "</style>\n",
       "<table border=\"1\" class=\"dataframe\">\n",
       "  <thead>\n",
       "    <tr style=\"text-align: right;\">\n",
       "      <th></th>\n",
       "      <th>ID</th>\n",
       "      <th>demand</th>\n",
       "    </tr>\n",
       "  </thead>\n",
       "  <tbody>\n",
       "    <tr>\n",
       "      <th>0</th>\n",
       "      <td>0</td>\n",
       "      <td>3.790590</td>\n",
       "    </tr>\n",
       "    <tr>\n",
       "      <th>1</th>\n",
       "      <td>1</td>\n",
       "      <td>1.465598</td>\n",
       "    </tr>\n",
       "    <tr>\n",
       "      <th>2</th>\n",
       "      <td>2</td>\n",
       "      <td>0.208971</td>\n",
       "    </tr>\n",
       "    <tr>\n",
       "      <th>3</th>\n",
       "      <td>3</td>\n",
       "      <td>1.071173</td>\n",
       "    </tr>\n",
       "    <tr>\n",
       "      <th>4</th>\n",
       "      <td>4</td>\n",
       "      <td>0.426048</td>\n",
       "    </tr>\n",
       "  </tbody>\n",
       "</table>\n",
       "</div>"
      ],
      "text/plain": [
       "   ID    demand\n",
       "0   0  3.790590\n",
       "1   1  1.465598\n",
       "2   2  0.208971\n",
       "3   3  1.071173\n",
       "4   4  0.426048"
      ]
     },
     "execution_count": 40,
     "metadata": {},
     "output_type": "execute_result"
    }
   ],
   "source": [
    "# exporting\n",
    "subm.to_csv(\"../submissions/red3_xgb_nested_10it_100cv_transform_extravar.csv\", index = False)\n",
    "subm.head()"
   ]
  }
 ],
 "metadata": {
  "kernelspec": {
   "display_name": "Python 3",
   "language": "python",
   "name": "python3"
  },
  "language_info": {
   "codemirror_mode": {
    "name": "ipython",
    "version": 3
   },
   "file_extension": ".py",
   "mimetype": "text/x-python",
   "name": "python",
   "nbconvert_exporter": "python",
   "pygments_lexer": "ipython3",
   "version": "3.6.4"
  }
 },
 "nbformat": 4,
 "nbformat_minor": 2
}
