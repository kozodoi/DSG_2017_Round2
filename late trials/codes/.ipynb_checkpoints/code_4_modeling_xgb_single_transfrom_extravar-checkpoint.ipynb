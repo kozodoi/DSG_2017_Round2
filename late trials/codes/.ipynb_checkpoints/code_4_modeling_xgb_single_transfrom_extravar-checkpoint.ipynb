{
 "cells": [
  {
   "cell_type": "markdown",
   "metadata": {},
   "source": [
    "# 1. DATA PREPARATION"
   ]
  },
  {
   "cell_type": "markdown",
   "metadata": {},
   "source": [
    "## 1.1. IMPORT"
   ]
  },
  {
   "cell_type": "code",
   "execution_count": 2,
   "metadata": {},
   "outputs": [],
   "source": [
    "# install packages\n",
    "#!pip install pandas\n",
    "#!pip install numpy\n",
    "#!pip install sklearn\n",
    "#!pip install xgboost\n",
    "#!pip install hyperopt"
   ]
  },
  {
   "cell_type": "code",
   "execution_count": 1,
   "metadata": {},
   "outputs": [],
   "source": [
    "# load packages\n",
    "import numpy as np\n",
    "import pandas as pd\n",
    "import xgboost as xgb\n",
    "from sklearn.preprocessing import LabelEncoder\n",
    "from sklearn.model_selection import GridSearchCV, StratifiedKFold, train_test_split\n",
    "from sklearn.metrics import mean_absolute_error\n",
    "from hyperopt import fmin, tpe, hp, STATUS_OK, Trials\n",
    "from matplotlib import pylab as plt\n",
    "import pickle"
   ]
  },
  {
   "cell_type": "code",
   "execution_count": 2,
   "metadata": {},
   "outputs": [],
   "source": [
    "# warnings\n",
    "import warnings\n",
    "warnings.filterwarnings(\"ignore\")"
   ]
  },
  {
   "cell_type": "code",
   "execution_count": 3,
   "metadata": {},
   "outputs": [],
   "source": [
    "# import data\n",
    "data = pd.read_csv(\"../../data/data_full.csv\")"
   ]
  },
  {
   "cell_type": "markdown",
   "metadata": {},
   "source": [
    "## 1.2. PREPARATION"
   ]
  },
  {
   "cell_type": "code",
   "execution_count": 4,
   "metadata": {},
   "outputs": [
    {
     "data": {
      "text/html": [
       "<div>\n",
       "<style scoped>\n",
       "    .dataframe tbody tr th:only-of-type {\n",
       "        vertical-align: middle;\n",
       "    }\n",
       "\n",
       "    .dataframe tbody tr th {\n",
       "        vertical-align: top;\n",
       "    }\n",
       "\n",
       "    .dataframe thead th {\n",
       "        text-align: right;\n",
       "    }\n",
       "</style>\n",
       "<table border=\"1\" class=\"dataframe\">\n",
       "  <thead>\n",
       "    <tr style=\"text-align: right;\">\n",
       "      <th></th>\n",
       "      <th>ID</th>\n",
       "      <th>SalOrg</th>\n",
       "      <th>year</th>\n",
       "      <th>month</th>\n",
       "      <th>y</th>\n",
       "      <th>lag_1</th>\n",
       "      <th>lag_2</th>\n",
       "      <th>lag_3</th>\n",
       "      <th>lag_4</th>\n",
       "      <th>lag_5</th>\n",
       "      <th>...</th>\n",
       "      <th>SubFct</th>\n",
       "      <th>DP_FAMILY_CODE</th>\n",
       "      <th>MktABC</th>\n",
       "      <th>Business</th>\n",
       "      <th>Gamma</th>\n",
       "      <th>ItemCat</th>\n",
       "      <th>PRODUCT_STATUS</th>\n",
       "      <th>Plant</th>\n",
       "      <th>DC</th>\n",
       "      <th>season</th>\n",
       "    </tr>\n",
       "  </thead>\n",
       "  <tbody>\n",
       "    <tr>\n",
       "      <th>0</th>\n",
       "      <td>0.0</td>\n",
       "      <td>0</td>\n",
       "      <td>2013</td>\n",
       "      <td>1</td>\n",
       "      <td>0.0</td>\n",
       "      <td>0.0</td>\n",
       "      <td>0.0</td>\n",
       "      <td>0.0</td>\n",
       "      <td>0.0</td>\n",
       "      <td>0.0</td>\n",
       "      <td>...</td>\n",
       "      <td>2</td>\n",
       "      <td>0</td>\n",
       "      <td>1</td>\n",
       "      <td>0</td>\n",
       "      <td>3</td>\n",
       "      <td>2</td>\n",
       "      <td>0</td>\n",
       "      <td>2</td>\n",
       "      <td>1</td>\n",
       "      <td>3</td>\n",
       "    </tr>\n",
       "    <tr>\n",
       "      <th>1</th>\n",
       "      <td>0.0</td>\n",
       "      <td>0</td>\n",
       "      <td>2013</td>\n",
       "      <td>1</td>\n",
       "      <td>16.0</td>\n",
       "      <td>4.0</td>\n",
       "      <td>1.0</td>\n",
       "      <td>0.0</td>\n",
       "      <td>30.0</td>\n",
       "      <td>0.0</td>\n",
       "      <td>...</td>\n",
       "      <td>2</td>\n",
       "      <td>21</td>\n",
       "      <td>3</td>\n",
       "      <td>0</td>\n",
       "      <td>13</td>\n",
       "      <td>2</td>\n",
       "      <td>4</td>\n",
       "      <td>2</td>\n",
       "      <td>1</td>\n",
       "      <td>3</td>\n",
       "    </tr>\n",
       "    <tr>\n",
       "      <th>2</th>\n",
       "      <td>0.0</td>\n",
       "      <td>0</td>\n",
       "      <td>2013</td>\n",
       "      <td>1</td>\n",
       "      <td>0.0</td>\n",
       "      <td>0.0</td>\n",
       "      <td>0.0</td>\n",
       "      <td>0.0</td>\n",
       "      <td>0.0</td>\n",
       "      <td>0.0</td>\n",
       "      <td>...</td>\n",
       "      <td>2</td>\n",
       "      <td>5</td>\n",
       "      <td>0</td>\n",
       "      <td>3</td>\n",
       "      <td>6</td>\n",
       "      <td>2</td>\n",
       "      <td>4</td>\n",
       "      <td>1</td>\n",
       "      <td>1</td>\n",
       "      <td>3</td>\n",
       "    </tr>\n",
       "    <tr>\n",
       "      <th>3</th>\n",
       "      <td>0.0</td>\n",
       "      <td>0</td>\n",
       "      <td>2013</td>\n",
       "      <td>1</td>\n",
       "      <td>2.0</td>\n",
       "      <td>0.0</td>\n",
       "      <td>0.0</td>\n",
       "      <td>0.0</td>\n",
       "      <td>0.0</td>\n",
       "      <td>0.0</td>\n",
       "      <td>...</td>\n",
       "      <td>2</td>\n",
       "      <td>0</td>\n",
       "      <td>1</td>\n",
       "      <td>3</td>\n",
       "      <td>13</td>\n",
       "      <td>2</td>\n",
       "      <td>0</td>\n",
       "      <td>2</td>\n",
       "      <td>1</td>\n",
       "      <td>3</td>\n",
       "    </tr>\n",
       "    <tr>\n",
       "      <th>4</th>\n",
       "      <td>0.0</td>\n",
       "      <td>0</td>\n",
       "      <td>2013</td>\n",
       "      <td>1</td>\n",
       "      <td>0.0</td>\n",
       "      <td>0.0</td>\n",
       "      <td>0.0</td>\n",
       "      <td>0.0</td>\n",
       "      <td>0.0</td>\n",
       "      <td>0.0</td>\n",
       "      <td>...</td>\n",
       "      <td>3</td>\n",
       "      <td>0</td>\n",
       "      <td>1</td>\n",
       "      <td>0</td>\n",
       "      <td>11</td>\n",
       "      <td>2</td>\n",
       "      <td>0</td>\n",
       "      <td>0</td>\n",
       "      <td>1</td>\n",
       "      <td>3</td>\n",
       "    </tr>\n",
       "  </tbody>\n",
       "</table>\n",
       "<p>5 rows × 41 columns</p>\n",
       "</div>"
      ],
      "text/plain": [
       "    ID  SalOrg  year  month     y  lag_1  lag_2  lag_3  lag_4  lag_5   ...    \\\n",
       "0  0.0       0  2013      1   0.0    0.0    0.0    0.0    0.0    0.0   ...     \n",
       "1  0.0       0  2013      1  16.0    4.0    1.0    0.0   30.0    0.0   ...     \n",
       "2  0.0       0  2013      1   0.0    0.0    0.0    0.0    0.0    0.0   ...     \n",
       "3  0.0       0  2013      1   2.0    0.0    0.0    0.0    0.0    0.0   ...     \n",
       "4  0.0       0  2013      1   0.0    0.0    0.0    0.0    0.0    0.0   ...     \n",
       "\n",
       "   SubFct  DP_FAMILY_CODE  MktABC  Business  Gamma  ItemCat  PRODUCT_STATUS  \\\n",
       "0       2               0       1         0      3        2               0   \n",
       "1       2              21       3         0     13        2               4   \n",
       "2       2               5       0         3      6        2               4   \n",
       "3       2               0       1         3     13        2               0   \n",
       "4       3               0       1         0     11        2               0   \n",
       "\n",
       "   Plant  DC  season  \n",
       "0      2   1       3  \n",
       "1      2   1       3  \n",
       "2      1   1       3  \n",
       "3      2   1       3  \n",
       "4      0   1       3  \n",
       "\n",
       "[5 rows x 41 columns]"
      ]
     },
     "execution_count": 4,
     "metadata": {},
     "output_type": "execute_result"
    }
   ],
   "source": [
    "# check the data\n",
    "data.head()"
   ]
  },
  {
   "cell_type": "code",
   "execution_count": 5,
   "metadata": {},
   "outputs": [
    {
     "name": "stdout",
     "output_type": "stream",
     "text": [
      "(3108708, 41)\n",
      "Index(['ID', 'SalOrg', 'year', 'month', 'y', 'lag_1', 'lag_2', 'lag_3',\n",
      "       'lag_4', 'lag_5', 'lag_6', 'lag_7', 'lag_8', 'lag_9', 'lag_10',\n",
      "       'lag_11', 'lag_12', 'LT', 'MOQ', 'ROP', 'SafetyStk', 'Gross_Weight',\n",
      "       'Length', 'Width', 'Height', 'Volume', 'CBO_CBO_Qty_Shortage',\n",
      "       'Comp_reference_number', 'Name_Of_Competitor', 'PL', 'SUBRANGE',\n",
      "       'SubFct', 'DP_FAMILY_CODE', 'MktABC', 'Business', 'Gamma', 'ItemCat',\n",
      "       'PRODUCT_STATUS', 'Plant', 'DC', 'season'],\n",
      "      dtype='object')\n"
     ]
    }
   ],
   "source": [
    "# check the data\n",
    "print(data.shape)\n",
    "print(data.columns)"
   ]
  },
  {
   "cell_type": "code",
   "execution_count": 6,
   "metadata": {},
   "outputs": [
    {
     "data": {
      "text/plain": [
       "y        116028\n",
       "lag_1     77352\n",
       "lag_2     38676\n",
       "dtype: int64"
      ]
     },
     "execution_count": 6,
     "metadata": {},
     "output_type": "execute_result"
    }
   ],
   "source": [
    "# count number of missings\n",
    "missings = data.isnull().sum()\n",
    "missings[missings > 0]"
   ]
  },
  {
   "cell_type": "code",
   "execution_count": 7,
   "metadata": {},
   "outputs": [
    {
     "data": {
      "text/plain": [
       "(3108708, 39)"
      ]
     },
     "execution_count": 7,
     "metadata": {},
     "output_type": "execute_result"
    }
   ],
   "source": [
    "# drop lags 1 and 2\n",
    "data = data.drop([\"lag_1\", \"lag_2\"], axis = 1)\n",
    "data.shape"
   ]
  },
  {
   "cell_type": "code",
   "execution_count": 8,
   "metadata": {},
   "outputs": [
    {
     "data": {
      "text/plain": [
       "(1471518, 39)"
      ]
     },
     "execution_count": 8,
     "metadata": {},
     "output_type": "execute_result"
    }
   ],
   "source": [
    "# remove observations if lags 3-12 are zeros\n",
    "lags = [col for col in data.columns if \"lag\" in col]\n",
    "lags = data[lags]\n",
    "lags = lags.sum(axis = 1)\n",
    "lags = lags[lags == 0]\n",
    "nuls = data.ix[lags.index]\n",
    "nuls = list(nuls[nuls.ID == 0].index)\n",
    "data = data.drop(nuls)\n",
    "data.shape"
   ]
  },
  {
   "cell_type": "code",
   "execution_count": 9,
   "metadata": {},
   "outputs": [],
   "source": [
    "# transform the target\n",
    "data.y = np.log(1 + data.y)"
   ]
  },
  {
   "cell_type": "code",
   "execution_count": 34,
   "metadata": {},
   "outputs": [
    {
     "name": "stdout",
     "output_type": "stream",
     "text": [
      "(1355490, 39)\n",
      "(116028, 39)\n",
      "(948843, 39)\n",
      "(406647, 39)\n"
     ]
    }
   ],
   "source": [
    "# partitioning the data: round 1\n",
    "X_known = data[-data.y.isnull()]\n",
    "y_known = data[-data.y.isnull()].y\n",
    "X_unknown = data[data.y.isnull()]\n",
    "y_unknown = data[ data.y.isnull()].y\n",
    "\n",
    "# partition the data: round 2\n",
    "X_train, X_test, y_train, y_test = train_test_split(X_known, y_known, test_size = 0.30, random_state = 108)\n",
    "\n",
    "# prind data dimensions\n",
    "print(X_known.shape)\n",
    "print(X_unknown.shape)\n",
    "print(X_train.shape)\n",
    "print(X_test.shape)"
   ]
  },
  {
   "cell_type": "code",
   "execution_count": 35,
   "metadata": {},
   "outputs": [
    {
     "name": "stdout",
     "output_type": "stream",
     "text": [
      "(948843, 43)\n",
      "(406647, 43)\n",
      "(948843, 47)\n",
      "(406647, 47)\n",
      "(948843, 51)\n",
      "(406647, 51)\n",
      "(948843, 55)\n",
      "(406647, 55)\n",
      "(948843, 59)\n",
      "(406647, 59)\n",
      "(948843, 63)\n",
      "(406647, 63)\n",
      "(1355490, 43)\n",
      "(116028, 43)\n",
      "(1355490, 47)\n",
      "(116028, 47)\n",
      "(1355490, 51)\n",
      "(116028, 51)\n",
      "(1355490, 55)\n",
      "(116028, 55)\n",
      "(1355490, 59)\n",
      "(116028, 59)\n",
      "(1355490, 63)\n",
      "(116028, 63)\n"
     ]
    }
   ],
   "source": [
    "### ADDITIONAL FEATURES (STATS)\n",
    "\n",
    "## 1. TRAIN - TEST DATA\n",
    "\n",
    "# compute additional variables: month\n",
    "train_stats = X_train.groupby([\"month\"]).y.agg([\"min\", \"max\", \"mean\", \"std\"])\n",
    "train_stats.columns = [\"mon_\" + str(col) for col in train_stats.columns]\n",
    "train_stats[\"month\"] = train_stats.index\n",
    "X_train = X_train.merge(train_stats, how = \"left\")\n",
    "X_test  = X_test.merge(train_stats, how = \"left\")\n",
    "print(X_train.shape)\n",
    "print(X_test.shape)\n",
    "\n",
    "# compute additional variables: country\n",
    "train_stats = X_train.groupby([\"SalOrg\"]).y.agg([\"min\", \"max\", \"mean\", \"std\"])\n",
    "train_stats.columns = [\"con_\" + str(col) for col in train_stats.columns]\n",
    "train_stats[\"SalOrg\"] = train_stats.index\n",
    "X_train = X_train.merge(train_stats, how = \"left\")\n",
    "X_test  = X_test.merge(train_stats, how = \"left\")\n",
    "print(X_train.shape)\n",
    "print(X_test.shape)\n",
    "\n",
    "# compute additional variables: month-country\n",
    "train_stats = X_train.groupby([\"month\", \"SalOrg\"]).y.agg([\"min\", \"max\", \"mean\", \"std\"])\n",
    "train_stats.columns = [\"mon_con_\" + str(col) for col in train_stats.columns]\n",
    "train_stats[\"month\"] = train_stats.index.get_level_values(\"month\")\n",
    "train_stats[\"SalOrg\"] = train_stats.index.get_level_values(\"SalOrg\")\n",
    "X_train = X_train.merge(train_stats, how = \"left\")\n",
    "X_test  = X_test.merge(train_stats, how = \"left\")\n",
    "print(X_train.shape)\n",
    "print(X_test.shape)\n",
    "\n",
    "\n",
    "## 2. KNOWN - UNKNOWN DATA\n",
    "\n",
    "# compute additional variables: month\n",
    "known_stats = X_known.groupby([\"month\"]).y.agg([\"min\", \"max\", \"mean\", \"std\"])\n",
    "known_stats.columns = [\"mon_\" + str(col) for col in known_stats.columns]\n",
    "known_stats[\"month\"] = known_stats.index\n",
    "X_known = X_known.merge(known_stats, how = \"left\")\n",
    "X_unknown  = X_unknown.merge(known_stats, how = \"left\")\n",
    "print(X_known.shape)\n",
    "print(X_unknown.shape)\n",
    "\n",
    "# compute additional variables: country\n",
    "known_stats = X_known.groupby([\"SalOrg\"]).y.agg([\"min\", \"max\", \"mean\", \"std\"])\n",
    "known_stats.columns = [\"con_\" + str(col) for col in known_stats.columns]\n",
    "known_stats[\"SalOrg\"] = known_stats.index\n",
    "X_known = X_known.merge(known_stats, how = \"left\")\n",
    "X_unknown  = X_unknown.merge(known_stats, how = \"left\")\n",
    "print(X_known.shape)\n",
    "print(X_unknown.shape)\n",
    "\n",
    "# compute additional variables: month-country\n",
    "known_stats = X_known.groupby([\"month\", \"SalOrg\"]).y.agg([\"min\", \"max\", \"mean\", \"std\"])\n",
    "known_stats.columns = [\"mon_con_\" + str(col) for col in known_stats.columns]\n",
    "known_stats[\"month\"] = known_stats.index.get_level_values(\"month\")\n",
    "known_stats[\"SalOrg\"] = known_stats.index.get_level_values(\"SalOrg\")\n",
    "X_known = X_known.merge(known_stats, how = \"left\")\n",
    "X_unknown  = X_unknown.merge(known_stats, how = \"left\")\n",
    "print(X_known.shape)\n",
    "print(X_unknown.shape)"
   ]
  },
  {
   "cell_type": "code",
   "execution_count": 36,
   "metadata": {},
   "outputs": [
    {
     "name": "stdout",
     "output_type": "stream",
     "text": [
      "(1355490, 62)\n",
      "(116028, 62)\n",
      "(948843, 62)\n",
      "(406647, 62)\n"
     ]
    }
   ],
   "source": [
    "# remove labels from X\n",
    "X_unknown = X_unknown.drop(\"y\", axis = 1)\n",
    "X_known   = X_known.drop(\"y\", axis = 1)\n",
    "X_train   = X_train.drop(\"y\", axis = 1)\n",
    "X_test    = X_test.drop(\"y\", axis = 1)\n",
    "\n",
    "# print data dimensions\n",
    "print(X_known.shape)\n",
    "print(X_unknown.shape)\n",
    "print(X_train.shape)\n",
    "print(X_test.shape)"
   ]
  },
  {
   "cell_type": "markdown",
   "metadata": {},
   "source": [
    "## 2.1. PARAMETER TUNING"
   ]
  },
  {
   "cell_type": "code",
   "execution_count": 37,
   "metadata": {},
   "outputs": [],
   "source": [
    "# task parameters\n",
    "task_pars = {\n",
    "             \"objective\"   : \"reg:linear\",\n",
    "             \"eval_metric\" : \"mae\",\n",
    "             \"nthread\"     : 8,\n",
    "             \"silent\"      : 1, \n",
    "             \"seed\"        : 108   \n",
    "            }"
   ]
  },
  {
   "cell_type": "code",
   "execution_count": 38,
   "metadata": {},
   "outputs": [],
   "source": [
    "# FUNCTION 1: parameter space\n",
    "def optimize(trials, task_params, max_evals = 100):\n",
    "    \n",
    "    # set up the parameter space\n",
    "    space = {\n",
    "             \"eta\"             : hp.quniform(\"eta\", 0.005, 0.5, 0.005),\n",
    "             \"gamma\"           : hp.quniform(\"gamma\", 0.3, 1, 0.01),\n",
    "             \"max_depth\"       : hp.quniform(\"max_depth\", 3, 15, 1),\n",
    "             \"min_child_weight\": hp.quniform(\"min_child_weight\", 1, 10, 1),\n",
    "             \"colsample_bytree\": hp.quniform(\"colsample_bytree\", 0.3, 1, 0.05),\n",
    "             \"subsample\"       : hp.quniform(\"subsample\", 0.6, 1, 0.05),\n",
    "             \"num_round\"       : 100,\n",
    "            }\n",
    "    \n",
    "    # add task parameters\n",
    "    space.update(task_params)\n",
    "    \n",
    "    # find the best combination\n",
    "    best = fmin(score, space, algo = tpe.suggest, trials = trials, max_evals = max_evals)\n",
    "    \n",
    "    # return results\n",
    "    return best"
   ]
  },
  {
   "cell_type": "code",
   "execution_count": 39,
   "metadata": {},
   "outputs": [],
   "source": [
    "# FUNCTION 2: performing the tuning\n",
    "def score(params):\n",
    "    \n",
    "    # display information\n",
    "    print(\"Training with the following parameters:\")\n",
    "    print(params)\n",
    "    \n",
    "    # convert to integer\n",
    "    params[\"max_depth\"] = int(params[\"max_depth\"])\n",
    "    params[\"num_round\"] = int(params[\"num_round\"])\n",
    "    params[\"seed\"]      = int(params[\"seed\"])\n",
    "\n",
    "    # transform matrices\n",
    "    dtrain = xgb.DMatrix(X_train.drop(\"ID\", axis = 1), label = y_train)\n",
    "    dvalid = xgb.DMatrix(X_test.drop(\"ID\",  axis = 1), label = y_test)\n",
    "    \n",
    "    # train the model\n",
    "    model = xgb.train(params, dtrain, params[\"num_round\"])\n",
    "    \n",
    "    # predict and score\n",
    "    predictions = model.predict(dvalid)\n",
    "    score = mean_absolute_error(y_test, predictions)\n",
    "    \n",
    "    # display information\n",
    "    print(\"Score: {0}\".format(round(score, 5)))\n",
    "    print(\"\\n---------------------------------------------\\n\")\n",
    "    return {'loss': score, 'status': STATUS_OK}"
   ]
  },
  {
   "cell_type": "code",
   "execution_count": 123,
   "metadata": {
    "collapsed": true
   },
   "outputs": [
    {
     "name": "stdout",
     "output_type": "stream",
     "text": [
      "Training with the following parameters:\n",
      "{'colsample_bytree': 0.6000000000000001, 'eta': 0.41000000000000003, 'eval_metric': 'mae', 'gamma': 0.66, 'max_depth': 5.0, 'min_child_weight': 3.0, 'nthread': 8, 'num_round': 100, 'objective': 'reg:linear', 'seed': 108, 'silent': 1, 'subsample': 0.8}\n",
      "Score: 0.48409\n",
      "\n",
      "---------------------------------------------\n",
      "\n",
      "Training with the following parameters:\n",
      "{'colsample_bytree': 0.9, 'eta': 0.17500000000000002, 'eval_metric': 'mae', 'gamma': 0.9400000000000001, 'max_depth': 4.0, 'min_child_weight': 2.0, 'nthread': 8, 'num_round': 100, 'objective': 'reg:linear', 'seed': 108, 'silent': 1, 'subsample': 0.6000000000000001}\n",
      "Score: 0.49099\n",
      "\n",
      "---------------------------------------------\n",
      "\n",
      "Training with the following parameters:\n",
      "{'colsample_bytree': 0.8, 'eta': 0.455, 'eval_metric': 'mae', 'gamma': 0.67, 'max_depth': 7.0, 'min_child_weight': 5.0, 'nthread': 8, 'num_round': 100, 'objective': 'reg:linear', 'seed': 108, 'silent': 1, 'subsample': 0.75}\n",
      "Score: 0.47926\n",
      "\n",
      "---------------------------------------------\n",
      "\n",
      "Training with the following parameters:\n",
      "{'colsample_bytree': 0.8, 'eta': 0.01, 'eval_metric': 'mae', 'gamma': 0.36, 'max_depth': 5.0, 'min_child_weight': 7.0, 'nthread': 8, 'num_round': 100, 'objective': 'reg:linear', 'seed': 108, 'silent': 1, 'subsample': 0.9500000000000001}\n",
      "Score: 0.68547\n",
      "\n",
      "---------------------------------------------\n",
      "\n",
      "Training with the following parameters:\n",
      "{'colsample_bytree': 0.7000000000000001, 'eta': 0.48, 'eval_metric': 'mae', 'gamma': 0.71, 'max_depth': 11.0, 'min_child_weight': 9.0, 'nthread': 8, 'num_round': 100, 'objective': 'reg:linear', 'seed': 108, 'silent': 1, 'subsample': 0.7000000000000001}\n",
      "Score: 0.49207\n",
      "\n",
      "---------------------------------------------\n",
      "\n",
      "Training with the following parameters:\n",
      "{'colsample_bytree': 0.9500000000000001, 'eta': 0.34500000000000003, 'eval_metric': 'mae', 'gamma': 0.67, 'max_depth': 4.0, 'min_child_weight': 8.0, 'nthread': 8, 'num_round': 100, 'objective': 'reg:linear', 'seed': 108, 'silent': 1, 'subsample': 0.9500000000000001}\n",
      "Score: 0.4873\n",
      "\n",
      "---------------------------------------------\n",
      "\n",
      "Training with the following parameters:\n",
      "{'colsample_bytree': 0.35000000000000003, 'eta': 0.495, 'eval_metric': 'mae', 'gamma': 0.67, 'max_depth': 6.0, 'min_child_weight': 5.0, 'nthread': 8, 'num_round': 100, 'objective': 'reg:linear', 'seed': 108, 'silent': 1, 'subsample': 0.7000000000000001}\n",
      "Score: 0.48699\n",
      "\n",
      "---------------------------------------------\n",
      "\n",
      "Training with the following parameters:\n",
      "{'colsample_bytree': 0.45, 'eta': 0.17500000000000002, 'eval_metric': 'mae', 'gamma': 0.47000000000000003, 'max_depth': 7.0, 'min_child_weight': 6.0, 'nthread': 8, 'num_round': 100, 'objective': 'reg:linear', 'seed': 108, 'silent': 1, 'subsample': 0.75}\n",
      "Score: 0.47809\n",
      "\n",
      "---------------------------------------------\n",
      "\n",
      "Training with the following parameters:\n",
      "{'colsample_bytree': 0.8, 'eta': 0.05, 'eval_metric': 'mae', 'gamma': 0.39, 'max_depth': 9.0, 'min_child_weight': 6.0, 'nthread': 8, 'num_round': 100, 'objective': 'reg:linear', 'seed': 108, 'silent': 1, 'subsample': 0.9500000000000001}\n",
      "Score: 0.48187\n",
      "\n",
      "---------------------------------------------\n",
      "\n",
      "Training with the following parameters:\n",
      "{'colsample_bytree': 0.55, 'eta': 0.46, 'eval_metric': 'mae', 'gamma': 0.49, 'max_depth': 6.0, 'min_child_weight': 9.0, 'nthread': 8, 'num_round': 100, 'objective': 'reg:linear', 'seed': 108, 'silent': 1, 'subsample': 0.9500000000000001}\n",
      "Score: 0.48075\n",
      "\n",
      "---------------------------------------------\n",
      "\n"
     ]
    }
   ],
   "source": [
    "# performing the tuning trials\n",
    "trials = Trials()\n",
    "best_params = optimize(trials, task_params = task_pars, max_evals = 10)"
   ]
  },
  {
   "cell_type": "code",
   "execution_count": 124,
   "metadata": {},
   "outputs": [
    {
     "data": {
      "text/plain": [
       "{'colsample_bytree': 0.45,\n",
       " 'eta': 0.17500000000000002,\n",
       " 'eval_metric': 'mae',\n",
       " 'gamma': 0.47000000000000003,\n",
       " 'max_depth': 7,\n",
       " 'min_child_weight': 6.0,\n",
       " 'nthread': 8,\n",
       " 'objective': 'reg:linear',\n",
       " 'seed': 108,\n",
       " 'silent': 1,\n",
       " 'subsample': 0.75}"
      ]
     },
     "execution_count": 124,
     "metadata": {},
     "output_type": "execute_result"
    }
   ],
   "source": [
    "# adding task parameters\n",
    "best_params.update(task_pars)\n",
    "\n",
    "# converting to integer\n",
    "best_params[\"max_depth\"] = int(best_params[\"max_depth\"])\n",
    "best_params[\"seed\"]      = int(best_params[\"seed\"])\n",
    "best_params"
   ]
  },
  {
   "cell_type": "code",
   "execution_count": 125,
   "metadata": {},
   "outputs": [],
   "source": [
    "# saving the best params\n",
    "pickle.dump(best_params, open(\"../files/full_xgb_par_10iter_transform_extravar.p\", \"wb\"))"
   ]
  },
  {
   "cell_type": "code",
   "execution_count": 40,
   "metadata": {},
   "outputs": [
    {
     "data": {
      "text/plain": [
       "{'colsample_bytree': 0.45,\n",
       " 'eta': 0.17500000000000002,\n",
       " 'eval_metric': 'mae',\n",
       " 'gamma': 0.47000000000000003,\n",
       " 'max_depth': 7,\n",
       " 'min_child_weight': 6.0,\n",
       " 'nthread': 8,\n",
       " 'objective': 'reg:linear',\n",
       " 'seed': 108,\n",
       " 'silent': 1,\n",
       " 'subsample': 0.75}"
      ]
     },
     "execution_count": 40,
     "metadata": {},
     "output_type": "execute_result"
    }
   ],
   "source": [
    "# loading the best params\n",
    "best_params = pickle.load(open(\"../files/full_xgb_par_10iter_transform_extravar.p\", \"rb\" ))\n",
    "best_params"
   ]
  },
  {
   "cell_type": "markdown",
   "metadata": {},
   "source": [
    "## 2.2. PERFORMING CROSS-VALIDATION"
   ]
  },
  {
   "cell_type": "code",
   "execution_count": 41,
   "metadata": {},
   "outputs": [],
   "source": [
    "# transforming dataframes\n",
    "d_known   = xgb.DMatrix(X_known.drop(\"ID\",   axis = 1), label = y_known)\n",
    "d_unknown = xgb.DMatrix(X_unknown.drop(\"ID\", axis = 1))"
   ]
  },
  {
   "cell_type": "code",
   "execution_count": 42,
   "metadata": {},
   "outputs": [],
   "source": [
    "# CV settings\n",
    "num_rounds = 100\n",
    "num_folds  = 4\n",
    "verbose    = 1"
   ]
  },
  {
   "cell_type": "code",
   "execution_count": null,
   "metadata": {
    "scrolled": true
   },
   "outputs": [],
   "source": [
    "# performing cross-validation\n",
    "cv = xgb.cv(best_params, d_known, verbose_eval = verbose, stratified = False,\n",
    "            nfold = num_folds, show_stdv = False, num_boost_round = num_rounds)\n",
    "print(\"Optimal number of trees: \" + str(1 + cv[\"test-mae-mean\"].argmin()))\n",
    "print(\"Estimated error value: \"   + str(round(cv.loc[cv[\"test-mae-mean\"].argmin()][\"test-mae-mean\"], 4)))"
   ]
  },
  {
   "cell_type": "markdown",
   "metadata": {},
   "source": [
    "## 2.3. TRAINING THE OPTIMAL MODEL"
   ]
  },
  {
   "cell_type": "code",
   "execution_count": 43,
   "metadata": {},
   "outputs": [],
   "source": [
    "# train the optimal model\n",
    "xgb_best = xgb.train(best_params, d_known, num_boost_round = cv[\"test-mae-mean\"].argmin())"
   ]
  },
  {
   "cell_type": "code",
   "execution_count": 44,
   "metadata": {},
   "outputs": [],
   "source": [
    "# list feature names\n",
    "features = list(X_known.columns[1:])\n",
    "\n",
    "# function for exporting\n",
    "def create_feature_map(features):\n",
    "    outfile = open(\"../files/xgb.fmap\", \"w\")\n",
    "    i = 0\n",
    "    for feat in features:\n",
    "        outfile.write(\"{0}\\t{1}\\tq\\n\".format(i, feat))\n",
    "        i = i + 1\n",
    "    outfile.close()\n",
    "    \n",
    "# export feature names as a file\n",
    "create_feature_map(features)"
   ]
  },
  {
   "cell_type": "code",
   "execution_count": 45,
   "metadata": {},
   "outputs": [
    {
     "data": {
      "text/plain": [
       "Text(0,0.5,'')"
      ]
     },
     "execution_count": 45,
     "metadata": {},
     "output_type": "execute_result"
    },
    {
     "data": {
      "text/plain": [
       "<matplotlib.figure.Figure at 0x1a0da33588>"
      ]
     },
     "metadata": {},
     "output_type": "display_data"
    },
    {
     "data": {
      "image/png": "[encoded data removed]",
      "text/plain": [
       "<matplotlib.figure.Figure at 0x1a0f1c4668>"
      ]
     },
     "metadata": {},
     "output_type": "display_data"
    }
   ],
   "source": [
    "# extract feature importance\n",
    "import operator\n",
    "importance = xgb_best.get_fscore(fmap = \"../files/xgb.fmap\")\n",
    "importance = sorted(importance.items(), key = operator.itemgetter(1))\n",
    "\n",
    "# store in a dataframe\n",
    "var_imp = pd.DataFrame(importance, columns = [\"feature\", \"fscore\"])\n",
    "var_imp[\"fscore\"] = var_imp[\"fscore\"] / var_imp[\"fscore\"].sum()\n",
    "\n",
    "# create a plot\n",
    "plt.figure()\n",
    "var_imp.plot(kind = \"barh\", x = \"feature\", y = \"fscore\", legend = False, figsize = (10, 12))\n",
    "plt.title(\"XGBoost Feature Importance\")\n",
    "plt.xlabel(\"Relative Importance\")\n",
    "plt.ylabel(\"\")"
   ]
  },
  {
   "cell_type": "code",
   "execution_count": 46,
   "metadata": {},
   "outputs": [
    {
     "data": {
      "text/plain": [
       "array([1.7921478 , 1.0804379 , 0.23201117, ..., 0.3815813 , 1.3315353 ,\n",
       "       0.11148471], dtype=float32)"
      ]
     },
     "execution_count": 46,
     "metadata": {},
     "output_type": "execute_result"
    }
   ],
   "source": [
    "# predicting the unknown data\n",
    "pred = xgb_best.predict(d_unknown)\n",
    "pred"
   ]
  },
  {
   "cell_type": "code",
   "execution_count": 47,
   "metadata": {},
   "outputs": [],
   "source": [
    "# transfrom predictions\n",
    "pred = np.exp(pred) - 1"
   ]
  },
  {
   "cell_type": "markdown",
   "metadata": {},
   "source": [
    "## 2.4. CREATING SUBMISSION"
   ]
  },
  {
   "cell_type": "code",
   "execution_count": 48,
   "metadata": {},
   "outputs": [],
   "source": [
    "# creating the data frame\n",
    "subm = pd.concat([X_unknown[\"ID\"].reset_index(drop = True), \n",
    "                  pd.Series(pred).reset_index(drop = True)], axis = 1)\n",
    "subm.columns = [\"ID\", \"demand\"]\n",
    "subm[\"ID\"] = subm[\"ID\"].astype(\"int\")\n",
    "subm = subm.sort_values(by = \"ID\")"
   ]
  },
  {
   "cell_type": "code",
   "execution_count": 49,
   "metadata": {},
   "outputs": [],
   "source": [
    "# smart edit 1: removing negative values\n",
    "subm.demand[subm.demand < 0] = 0"
   ]
  },
  {
   "cell_type": "code",
   "execution_count": 50,
   "metadata": {},
   "outputs": [],
   "source": [
    "# smart edit 2: impute zeros if all lags are zeros\n",
    "lags = [col for col in X_unknown.columns if \"lag\" in col]\n",
    "lags = X_unknown[lags]\n",
    "lags = lags.sum(axis = 1)\n",
    "lags = lags[lags == 0]\n",
    "null_ids = list(X_unknown.ix[lags.index].ID.astype(\"int\"))\n",
    "subm.demand[subm.ID.isin(null_ids)] = 0"
   ]
  },
  {
   "cell_type": "code",
   "execution_count": 51,
   "metadata": {},
   "outputs": [
    {
     "data": {
      "text/html": [
       "<div>\n",
       "<style scoped>\n",
       "    .dataframe tbody tr th:only-of-type {\n",
       "        vertical-align: middle;\n",
       "    }\n",
       "\n",
       "    .dataframe tbody tr th {\n",
       "        vertical-align: top;\n",
       "    }\n",
       "\n",
       "    .dataframe thead th {\n",
       "        text-align: right;\n",
       "    }\n",
       "</style>\n",
       "<table border=\"1\" class=\"dataframe\">\n",
       "  <thead>\n",
       "    <tr style=\"text-align: right;\">\n",
       "      <th></th>\n",
       "      <th>ID</th>\n",
       "      <th>demand</th>\n",
       "    </tr>\n",
       "  </thead>\n",
       "  <tbody>\n",
       "    <tr>\n",
       "      <th>0</th>\n",
       "      <td>0</td>\n",
       "      <td>5.002330</td>\n",
       "    </tr>\n",
       "    <tr>\n",
       "      <th>1</th>\n",
       "      <td>1</td>\n",
       "      <td>1.945969</td>\n",
       "    </tr>\n",
       "    <tr>\n",
       "      <th>2</th>\n",
       "      <td>2</td>\n",
       "      <td>0.261134</td>\n",
       "    </tr>\n",
       "    <tr>\n",
       "      <th>3</th>\n",
       "      <td>3</td>\n",
       "      <td>1.281755</td>\n",
       "    </tr>\n",
       "    <tr>\n",
       "      <th>4</th>\n",
       "      <td>4</td>\n",
       "      <td>0.472273</td>\n",
       "    </tr>\n",
       "  </tbody>\n",
       "</table>\n",
       "</div>"
      ],
      "text/plain": [
       "   ID    demand\n",
       "0   0  5.002330\n",
       "1   1  1.945969\n",
       "2   2  0.261134\n",
       "3   3  1.281755\n",
       "4   4  0.472273"
      ]
     },
     "execution_count": 51,
     "metadata": {},
     "output_type": "execute_result"
    }
   ],
   "source": [
    "# exporting\n",
    "subm.to_csv(\"../submissions/red3_xgb_10it_100cv_transform_extravar.csv\", index = False)\n",
    "subm.head()"
   ]
  }
 ],
 "metadata": {
  "kernelspec": {
   "display_name": "Python 3",
   "language": "python",
   "name": "python3"
  },
  "language_info": {
   "codemirror_mode": {
    "name": "ipython",
    "version": 3
   },
   "file_extension": ".py",
   "mimetype": "text/x-python",
   "name": "python",
   "nbconvert_exporter": "python",
   "pygments_lexer": "ipython3",
   "version": "3.6.4"
  }
 },
 "nbformat": 4,
 "nbformat_minor": 2
}
